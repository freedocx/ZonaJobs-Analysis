{
 "cells": [
  {
   "cell_type": "code",
   "execution_count": 1,
   "metadata": {},
   "outputs": [],
   "source": [
    "import pandas as pd\n",
    "import numpy as np\n",
    "from sklearn.preprocessing import LabelEncoder\n",
    "from sklearn.utils import shuffle\n",
    "from sklearn.ensemble import RandomForestClassifier\n",
    "import matplotlib.pyplot as plt\n",
    "%matplotlib inline\n",
    "from sklearn.model_selection import cross_val_score\n",
    "import xgboost as xgb\n",
    "from sklearn.preprocessing import MinMaxScaler"
   ]
  },
  {
   "cell_type": "markdown",
   "metadata": {},
   "source": [
    "### Cargo los archivos\n",
    "\n",
    "* Previamente los genere con las notebook subidas\n",
    "* Los avisos tienen 250 columnas con las matrices 'UxE' de la salida de aplicar SVD,\n",
    "    pero por ahora no las uso.\n",
    "* Las vistas contienen la cantidad de vistas"
   ]
  },
  {
   "cell_type": "code",
   "execution_count": 2,
   "metadata": {},
   "outputs": [],
   "source": [
    "post = pd.read_csv('/home/pcsor/facu/TP2/postulaciones.csv',low_memory=False)\n",
    "avisos = pd.read_csv('/home/pcsor/facu/TP2/avisos3.csv',low_memory=False)\n",
    "postulantes = pd.read_csv('/home/pcsor/facu/TP2/postulantes.csv',low_memory=False)\n",
    "test = pd.read_csv('/home/pcsor/facu/TP2/test_final_100k.csv',low_memory=False)\n",
    "cantidadVistas = pd.read_csv('/home/pcsor/facu/TP2/cantidadVistas.csv',low_memory=False)\n",
    "cantidadVistas15 = pd.read_csv('/home/pcsor/facu/TP2/cantidadVistas15.csv',low_memory=False)\n",
    "cantidadVistasTest = pd.read_csv('/home/pcsor/facu/TP2/cantidadVistasTest.csv',low_memory=False)\n",
    "cantidadVistasTotalesPorAviso = pd.read_csv('/home/pcsor/facu/TP2/cantidadVistasTotalesPorAviso.csv',low_memory=False)\n",
    "cantidadVistasPorAviso15 = pd.read_csv('/home/pcsor/facu/TP2/cantidadVistasPorAviso15.csv',low_memory=False)\n",
    "cantidadVistasPorAvisoTest = pd.read_csv('/home/pcsor/facu/TP2/cantidadVistasPorAvisoTest.csv',low_memory=False)\n",
    "cantidadVistasTotalesPorPostulante = pd.read_csv('/home/pcsor/facu/TP2/cantidadVistasTotalesPorPostulante.csv',low_memory=False)\n",
    "cantidadVistasPorPostulante15 = pd.read_csv('/home/pcsor/facu/TP2/cantidadVistasPorPostulante15.csv',low_memory=False)\n",
    "cantidadVistasPorPostulanteTest = pd.read_csv('/home/pcsor/facu/TP2/cantidadVistasPorPostulanteTest.csv',low_memory=False)\n",
    "cantidadPostulaciones10 = pd.read_csv('/home/pcsor/facu/TP2/cantidadPostulaciones10.csv',low_memory=False)\n",
    "cantidadPostulaciones4 = pd.read_csv('/home/pcsor/facu/TP2/cantidadPostulaciones4.csv',low_memory=False)\n",
    "cantidadPostulacionesAviso4 =  pd.read_csv('/home/pcsor/facu/TP2/cantidadPostulacionesAviso4.csv',low_memory=False)\n",
    "cantidadPostulacionesAviso10 = pd.read_csv('/home/pcsor/facu/TP2/cantidadPostulacionesAviso10.csv',low_memory=False)\n",
    "cantidadPostulaciones = pd.read_csv('/home/pcsor/facu/TP2/cantidadPostulaciones.csv',low_memory=False)"
   ]
  },
  {
   "cell_type": "code",
   "execution_count": 3,
   "metadata": {},
   "outputs": [
    {
     "data": {
      "text/html": [
       "<div>\n",
       "<style scoped>\n",
       "    .dataframe tbody tr th:only-of-type {\n",
       "        vertical-align: middle;\n",
       "    }\n",
       "\n",
       "    .dataframe tbody tr th {\n",
       "        vertical-align: top;\n",
       "    }\n",
       "\n",
       "    .dataframe thead th {\n",
       "        text-align: right;\n",
       "    }\n",
       "</style>\n",
       "<table border=\"1\" class=\"dataframe\">\n",
       "  <thead>\n",
       "    <tr style=\"text-align: right;\">\n",
       "      <th></th>\n",
       "      <th>idaviso</th>\n",
       "      <th>nombre_zona</th>\n",
       "      <th>tipo_de_trabajo</th>\n",
       "      <th>nombre_area</th>\n",
       "      <th>0</th>\n",
       "      <th>1</th>\n",
       "      <th>2</th>\n",
       "      <th>3</th>\n",
       "      <th>4</th>\n",
       "      <th>5</th>\n",
       "      <th>...</th>\n",
       "      <th>21</th>\n",
       "      <th>22</th>\n",
       "      <th>23</th>\n",
       "      <th>24</th>\n",
       "      <th>25</th>\n",
       "      <th>26</th>\n",
       "      <th>27</th>\n",
       "      <th>28</th>\n",
       "      <th>29</th>\n",
       "      <th>nivel_laboral</th>\n",
       "    </tr>\n",
       "  </thead>\n",
       "  <tbody>\n",
       "    <tr>\n",
       "      <th>0</th>\n",
       "      <td>1001284385</td>\n",
       "      <td>2</td>\n",
       "      <td>1</td>\n",
       "      <td>137</td>\n",
       "      <td>-5.467577e-15</td>\n",
       "      <td>-8.451362e-14</td>\n",
       "      <td>-8.197287e-14</td>\n",
       "      <td>2.939901e-13</td>\n",
       "      <td>-1.154531e-12</td>\n",
       "      <td>-4.924603e-13</td>\n",
       "      <td>...</td>\n",
       "      <td>5.101614e-12</td>\n",
       "      <td>9.380850e-12</td>\n",
       "      <td>-1.135179e-11</td>\n",
       "      <td>-8.559552e-12</td>\n",
       "      <td>-5.632658e-12</td>\n",
       "      <td>-2.378366e-13</td>\n",
       "      <td>1.347250e-11</td>\n",
       "      <td>1.548645e-11</td>\n",
       "      <td>2.647626e-11</td>\n",
       "      <td>NaN</td>\n",
       "    </tr>\n",
       "    <tr>\n",
       "      <th>1</th>\n",
       "      <td>1110092955</td>\n",
       "      <td>1</td>\n",
       "      <td>1</td>\n",
       "      <td>143</td>\n",
       "      <td>7.534270e-03</td>\n",
       "      <td>4.948141e-03</td>\n",
       "      <td>2.774831e-02</td>\n",
       "      <td>-8.603403e-03</td>\n",
       "      <td>-5.308518e-02</td>\n",
       "      <td>-6.630085e-03</td>\n",
       "      <td>...</td>\n",
       "      <td>-5.366094e-03</td>\n",
       "      <td>-1.340431e-02</td>\n",
       "      <td>-1.844706e-02</td>\n",
       "      <td>1.028691e-01</td>\n",
       "      <td>-8.485015e-02</td>\n",
       "      <td>6.152027e-02</td>\n",
       "      <td>-8.554677e-02</td>\n",
       "      <td>-2.842450e-02</td>\n",
       "      <td>1.311970e-02</td>\n",
       "      <td>NaN</td>\n",
       "    </tr>\n",
       "  </tbody>\n",
       "</table>\n",
       "<p>2 rows × 35 columns</p>\n",
       "</div>"
      ],
      "text/plain": [
       "      idaviso  nombre_zona  tipo_de_trabajo  nombre_area             0  \\\n",
       "0  1001284385            2                1          137 -5.467577e-15   \n",
       "1  1110092955            1                1          143  7.534270e-03   \n",
       "\n",
       "              1             2             3             4             5  \\\n",
       "0 -8.451362e-14 -8.197287e-14  2.939901e-13 -1.154531e-12 -4.924603e-13   \n",
       "1  4.948141e-03  2.774831e-02 -8.603403e-03 -5.308518e-02 -6.630085e-03   \n",
       "\n",
       "       ...                  21            22            23            24  \\\n",
       "0      ...        5.101614e-12  9.380850e-12 -1.135179e-11 -8.559552e-12   \n",
       "1      ...       -5.366094e-03 -1.340431e-02 -1.844706e-02  1.028691e-01   \n",
       "\n",
       "             25            26            27            28            29  \\\n",
       "0 -5.632658e-12 -2.378366e-13  1.347250e-11  1.548645e-11  2.647626e-11   \n",
       "1 -8.485015e-02  6.152027e-02 -8.554677e-02 -2.842450e-02  1.311970e-02   \n",
       "\n",
       "   nivel_laboral  \n",
       "0            NaN  \n",
       "1            NaN  \n",
       "\n",
       "[2 rows x 35 columns]"
      ]
     },
     "execution_count": 3,
     "metadata": {},
     "output_type": "execute_result"
    }
   ],
   "source": [
    "avisos[0:2]"
   ]
  },
  {
   "cell_type": "code",
   "execution_count": null,
   "metadata": {},
   "outputs": [],
   "source": []
  },
  {
   "cell_type": "code",
   "execution_count": 4,
   "metadata": {},
   "outputs": [],
   "source": [
    "###### Drop a las columnas que no se utilizan\n",
    "features = list(set(avisos.columns) - set(['idaviso','tipo_de_trabajo','nombre_area']))\n",
    "avisos = avisos.drop(features,axis=1)"
   ]
  },
  {
   "cell_type": "code",
   "execution_count": 5,
   "metadata": {},
   "outputs": [],
   "source": [
    "post['sepostulo'] = 1\n",
    "test['sepostulo'] = 2"
   ]
  },
  {
   "cell_type": "code",
   "execution_count": 6,
   "metadata": {},
   "outputs": [
    {
     "data": {
      "text/plain": [
       "((100000, 4),\n",
       " Index(['id', 'idaviso', 'idpostulante', 'sepostulo'], dtype='object'))"
      ]
     },
     "execution_count": 6,
     "metadata": {},
     "output_type": "execute_result"
    }
   ],
   "source": [
    "test.shape,test.columns"
   ]
  },
  {
   "cell_type": "code",
   "execution_count": 7,
   "metadata": {},
   "outputs": [],
   "source": [
    "post = post.loc[post['fechapostulacion'] > '2018-03-01 00:00:00']"
   ]
  },
  {
   "cell_type": "code",
   "execution_count": 8,
   "metadata": {},
   "outputs": [],
   "source": [
    "##### Se arma un Trainset con dummys\n",
    "train = pd.DataFrame()\n",
    "train['idaviso'] = shuffle(post['idaviso'][0:3000000]).reset_index()['idaviso']\n",
    "train['idpostulante'] = shuffle(post['idpostulante'][0:3000000]).reset_index()['idpostulante']\n",
    "train['sepostulo'] = 0"
   ]
  },
  {
   "cell_type": "code",
   "execution_count": 9,
   "metadata": {},
   "outputs": [],
   "source": [
    "##### Se controla que los dummys con '0' NO sean postulaciones reales\n",
    "train = pd.merge(train, post, how='left', on=['idpostulante', 'idaviso'], indicator=True)\n",
    "train = train.query('_merge != \"both\"')\n",
    "train = train.drop(['_merge','sepostulo_y','fechapostulacion'],axis=1)\n",
    "train.columns = ['idaviso','idpostulante','sepostulo']"
   ]
  },
  {
   "cell_type": "code",
   "execution_count": 10,
   "metadata": {},
   "outputs": [],
   "source": [
    "##### Se controla que los dummys NO esten en las postulaciones a predecir\n",
    "train = pd.merge(train, test, how='left', on=['idpostulante', 'idaviso'], indicator=True)\n",
    "train = train.query('_merge != \"both\"')\n",
    "train = train.drop(['_merge','id','sepostulo_y'],axis=1)\n",
    "train.columns = ['idaviso','idpostulante','sepostulo']"
   ]
  },
  {
   "cell_type": "code",
   "execution_count": 11,
   "metadata": {},
   "outputs": [
    {
     "data": {
      "text/plain": [
       "(Index(['idaviso', 'idpostulante', 'sepostulo'], dtype='object'), (2918279, 3))"
      ]
     },
     "execution_count": 11,
     "metadata": {},
     "output_type": "execute_result"
    }
   ],
   "source": [
    "train.columns,train.shape"
   ]
  },
  {
   "cell_type": "code",
   "execution_count": null,
   "metadata": {},
   "outputs": [],
   "source": []
  },
  {
   "cell_type": "code",
   "execution_count": 12,
   "metadata": {},
   "outputs": [],
   "source": [
    "train = train.drop_duplicates(['idaviso','idpostulante'])"
   ]
  },
  {
   "cell_type": "code",
   "execution_count": 13,
   "metadata": {},
   "outputs": [
    {
     "data": {
      "text/plain": [
       "((2880456, 3), (3047350, 4))"
      ]
     },
     "execution_count": 13,
     "metadata": {},
     "output_type": "execute_result"
    }
   ],
   "source": [
    "train.shape,post.shape"
   ]
  },
  {
   "cell_type": "code",
   "execution_count": null,
   "metadata": {},
   "outputs": [],
   "source": []
  },
  {
   "cell_type": "code",
   "execution_count": 14,
   "metadata": {},
   "outputs": [
    {
     "data": {
      "text/html": [
       "<div>\n",
       "<style scoped>\n",
       "    .dataframe tbody tr th:only-of-type {\n",
       "        vertical-align: middle;\n",
       "    }\n",
       "\n",
       "    .dataframe tbody tr th {\n",
       "        vertical-align: top;\n",
       "    }\n",
       "\n",
       "    .dataframe thead th {\n",
       "        text-align: right;\n",
       "    }\n",
       "</style>\n",
       "<table border=\"1\" class=\"dataframe\">\n",
       "  <thead>\n",
       "    <tr style=\"text-align: right;\">\n",
       "      <th></th>\n",
       "      <th>idaviso</th>\n",
       "      <th>idpostulante</th>\n",
       "      <th>sepostulo</th>\n",
       "    </tr>\n",
       "  </thead>\n",
       "  <tbody>\n",
       "    <tr>\n",
       "      <th>0</th>\n",
       "      <td>1112470106</td>\n",
       "      <td>W9keddN</td>\n",
       "      <td>1</td>\n",
       "    </tr>\n",
       "    <tr>\n",
       "      <th>1</th>\n",
       "      <td>1112454333</td>\n",
       "      <td>ZDr9NB1</td>\n",
       "      <td>1</td>\n",
       "    </tr>\n",
       "    <tr>\n",
       "      <th>2</th>\n",
       "      <td>1112467020</td>\n",
       "      <td>bOjXla0</td>\n",
       "      <td>1</td>\n",
       "    </tr>\n",
       "  </tbody>\n",
       "</table>\n",
       "</div>"
      ],
      "text/plain": [
       "      idaviso idpostulante  sepostulo\n",
       "0  1112470106      W9keddN          1\n",
       "1  1112454333      ZDr9NB1          1\n",
       "2  1112467020      bOjXla0          1"
      ]
     },
     "execution_count": 14,
     "metadata": {},
     "output_type": "execute_result"
    }
   ],
   "source": [
    "###### Se filtran las postulaciones antiguas\n",
    "post = post.sort_values(by='fechapostulacion',ascending=False)\n",
    "post = post.reset_index().drop('index',axis=1)\n",
    "abril = '2018-04-01 00:00:00'\n",
    "post = post.loc[post['fechapostulacion']>abril]\n",
    "post = post.drop(['fechapostulacion'], axis=1)\n",
    "post[0:3]"
   ]
  },
  {
   "cell_type": "code",
   "execution_count": 15,
   "metadata": {},
   "outputs": [],
   "source": [
    "####### Se juntan los dummys con las postulaciones filtradas\n",
    "train = pd.concat([train,post])\n",
    "train = shuffle(train)\n",
    "train = train.reset_index().drop('index',axis=1)\n",
    "train = train.drop_duplicates(['idaviso','idpostulante'])"
   ]
  },
  {
   "cell_type": "code",
   "execution_count": 16,
   "metadata": {},
   "outputs": [],
   "source": [
    "train = pd.concat([train,test])"
   ]
  },
  {
   "cell_type": "code",
   "execution_count": 17,
   "metadata": {},
   "outputs": [
    {
     "data": {
      "text/html": [
       "<div>\n",
       "<style scoped>\n",
       "    .dataframe tbody tr th:only-of-type {\n",
       "        vertical-align: middle;\n",
       "    }\n",
       "\n",
       "    .dataframe tbody tr th {\n",
       "        vertical-align: top;\n",
       "    }\n",
       "\n",
       "    .dataframe thead th {\n",
       "        text-align: right;\n",
       "    }\n",
       "</style>\n",
       "<table border=\"1\" class=\"dataframe\">\n",
       "  <thead>\n",
       "    <tr style=\"text-align: right;\">\n",
       "      <th></th>\n",
       "      <th>id</th>\n",
       "      <th>idaviso</th>\n",
       "      <th>idpostulante</th>\n",
       "      <th>sepostulo</th>\n",
       "      <th>tipo_de_trabajo</th>\n",
       "      <th>nombre_area</th>\n",
       "    </tr>\n",
       "  </thead>\n",
       "  <tbody>\n",
       "    <tr>\n",
       "      <th>0</th>\n",
       "      <td>NaN</td>\n",
       "      <td>1112393364</td>\n",
       "      <td>96zQXop</td>\n",
       "      <td>0</td>\n",
       "      <td>1.0</td>\n",
       "      <td>181.0</td>\n",
       "    </tr>\n",
       "    <tr>\n",
       "      <th>1</th>\n",
       "      <td>NaN</td>\n",
       "      <td>1112435842</td>\n",
       "      <td>KBdMYM0</td>\n",
       "      <td>1</td>\n",
       "      <td>1.0</td>\n",
       "      <td>116.0</td>\n",
       "    </tr>\n",
       "    <tr>\n",
       "      <th>2</th>\n",
       "      <td>NaN</td>\n",
       "      <td>1112414920</td>\n",
       "      <td>A3X0LEL</td>\n",
       "      <td>0</td>\n",
       "      <td>1.0</td>\n",
       "      <td>22.0</td>\n",
       "    </tr>\n",
       "  </tbody>\n",
       "</table>\n",
       "</div>"
      ],
      "text/plain": [
       "   id     idaviso idpostulante  sepostulo  tipo_de_trabajo  nombre_area\n",
       "0 NaN  1112393364      96zQXop          0              1.0        181.0\n",
       "1 NaN  1112435842      KBdMYM0          1              1.0        116.0\n",
       "2 NaN  1112414920      A3X0LEL          0              1.0         22.0"
      ]
     },
     "execution_count": 17,
     "metadata": {},
     "output_type": "execute_result"
    }
   ],
   "source": [
    "####### Se agregan los features de los avisos\n",
    "train = pd.merge(train,avisos,how='left',on='idaviso',indicator=True)\n",
    "train = train.query('_merge != \"left_only\"')\n",
    "train = train.drop(['_merge'],axis=1)\n",
    "train[0:3]"
   ]
  },
  {
   "cell_type": "code",
   "execution_count": 18,
   "metadata": {},
   "outputs": [],
   "source": [
    "####### Agrego la cantidad de vistas y relleno con '0' las que no son vistas\n",
    "train = pd.merge(train,cantidadVistas,how='left',on=['idaviso','idpostulante',])\n",
    "train['cantidadDeVistas'] = train['cantidadDeVistas'].fillna(0)"
   ]
  },
  {
   "cell_type": "code",
   "execution_count": 19,
   "metadata": {},
   "outputs": [],
   "source": [
    "train = pd.merge(train,cantidadVistasTotalesPorAviso,how='left',on=['idaviso'])\n",
    "train['vistasPorAvisoTotales'] = train['vistasPorAvisoTotales'].fillna(0)"
   ]
  },
  {
   "cell_type": "code",
   "execution_count": 20,
   "metadata": {},
   "outputs": [],
   "source": [
    "train = pd.merge(train,cantidadVistasTotalesPorPostulante,how='left',on=['idpostulante'])\n",
    "train['vistasPorPostulanteTotales'] = train['vistasPorPostulanteTotales'].fillna(0)"
   ]
  },
  {
   "cell_type": "code",
   "execution_count": 21,
   "metadata": {},
   "outputs": [
    {
     "data": {
      "text/plain": [
       "(131.47438705269167, 3973.2272914776813, 0.481168524586318)"
      ]
     },
     "execution_count": 21,
     "metadata": {},
     "output_type": "execute_result"
    }
   ],
   "source": [
    "train['vistasPorPostulanteTotales'].mean(),train['vistasPorAvisoTotales'].mean(),train['cantidadDeVistas'].mean()"
   ]
  },
  {
   "cell_type": "code",
   "execution_count": 22,
   "metadata": {},
   "outputs": [
    {
     "data": {
      "text/html": [
       "<div>\n",
       "<style scoped>\n",
       "    .dataframe tbody tr th:only-of-type {\n",
       "        vertical-align: middle;\n",
       "    }\n",
       "\n",
       "    .dataframe tbody tr th {\n",
       "        vertical-align: top;\n",
       "    }\n",
       "\n",
       "    .dataframe thead th {\n",
       "        text-align: right;\n",
       "    }\n",
       "</style>\n",
       "<table border=\"1\" class=\"dataframe\">\n",
       "  <thead>\n",
       "    <tr style=\"text-align: right;\">\n",
       "      <th></th>\n",
       "      <th>id</th>\n",
       "      <th>idaviso</th>\n",
       "      <th>idpostulante</th>\n",
       "      <th>sepostulo</th>\n",
       "      <th>tipo_de_trabajo</th>\n",
       "      <th>nombre_area</th>\n",
       "      <th>cantidadDeVistas</th>\n",
       "      <th>vistasPorAvisoTotales</th>\n",
       "      <th>vistasPorPostulanteTotales</th>\n",
       "    </tr>\n",
       "  </thead>\n",
       "  <tbody>\n",
       "    <tr>\n",
       "      <th>0</th>\n",
       "      <td>NaN</td>\n",
       "      <td>1112393364</td>\n",
       "      <td>96zQXop</td>\n",
       "      <td>0</td>\n",
       "      <td>1.0</td>\n",
       "      <td>181.0</td>\n",
       "      <td>0.0</td>\n",
       "      <td>880.0</td>\n",
       "      <td>30.0</td>\n",
       "    </tr>\n",
       "    <tr>\n",
       "      <th>1</th>\n",
       "      <td>NaN</td>\n",
       "      <td>1112435842</td>\n",
       "      <td>KBdMYM0</td>\n",
       "      <td>1</td>\n",
       "      <td>1.0</td>\n",
       "      <td>116.0</td>\n",
       "      <td>1.0</td>\n",
       "      <td>685.0</td>\n",
       "      <td>46.0</td>\n",
       "    </tr>\n",
       "    <tr>\n",
       "      <th>2</th>\n",
       "      <td>NaN</td>\n",
       "      <td>1112414920</td>\n",
       "      <td>A3X0LEL</td>\n",
       "      <td>0</td>\n",
       "      <td>1.0</td>\n",
       "      <td>22.0</td>\n",
       "      <td>0.0</td>\n",
       "      <td>1384.0</td>\n",
       "      <td>14.0</td>\n",
       "    </tr>\n",
       "    <tr>\n",
       "      <th>3</th>\n",
       "      <td>NaN</td>\n",
       "      <td>1112365193</td>\n",
       "      <td>2zw1jqa</td>\n",
       "      <td>0</td>\n",
       "      <td>1.0</td>\n",
       "      <td>30.0</td>\n",
       "      <td>0.0</td>\n",
       "      <td>947.0</td>\n",
       "      <td>157.0</td>\n",
       "    </tr>\n",
       "  </tbody>\n",
       "</table>\n",
       "</div>"
      ],
      "text/plain": [
       "   id     idaviso idpostulante  sepostulo  tipo_de_trabajo  nombre_area  \\\n",
       "0 NaN  1112393364      96zQXop          0              1.0        181.0   \n",
       "1 NaN  1112435842      KBdMYM0          1              1.0        116.0   \n",
       "2 NaN  1112414920      A3X0LEL          0              1.0         22.0   \n",
       "3 NaN  1112365193      2zw1jqa          0              1.0         30.0   \n",
       "\n",
       "   cantidadDeVistas  vistasPorAvisoTotales  vistasPorPostulanteTotales  \n",
       "0               0.0                  880.0                        30.0  \n",
       "1               1.0                  685.0                        46.0  \n",
       "2               0.0                 1384.0                        14.0  \n",
       "3               0.0                  947.0                       157.0  "
      ]
     },
     "execution_count": 22,
     "metadata": {},
     "output_type": "execute_result"
    }
   ],
   "source": [
    "train[0:4]"
   ]
  },
  {
   "cell_type": "code",
   "execution_count": 23,
   "metadata": {},
   "outputs": [],
   "source": [
    "####### Agrego los datos de los postulantes y se rellenan los NaNs con el promedio\n",
    "train = pd.merge(train,postulantes,how='left',on=['idpostulante'])\n",
    "train['edad'] = train['edad'].fillna(int(train['edad'].mean()))\n",
    "train['nombre'] = train['nombre'].fillna(int(train['nombre'].mean()))\n",
    "train = train.drop('estado',axis = 1)"
   ]
  },
  {
   "cell_type": "code",
   "execution_count": 24,
   "metadata": {},
   "outputs": [],
   "source": [
    "####### Agrego la cantidad de postulaciones y relleno con '0' \n",
    "train = pd.merge(train,cantidadPostulaciones10,how='left',on=['idpostulante'])\n",
    "train['cantidadPostulaciones10'] = train['cantidadPostulaciones10'].fillna(0)\n",
    "train = pd.merge(train,cantidadPostulaciones4,how='left',on=['idpostulante'])\n",
    "train['cantidadPostulaciones4'] = train['cantidadPostulaciones4'].fillna(0)\n",
    "train = pd.merge(train,cantidadPostulaciones,how='left',on=['idpostulante'])\n",
    "train['cantidadPostulaciones'] = train['cantidadPostulaciones'].fillna(0)\n",
    "train = pd.merge(train,cantidadPostulacionesAviso4,how='left',on=['idaviso'])\n",
    "train['cantidadPostulacionesAviso4'] = train['cantidadPostulacionesAviso4'].fillna(0)\n",
    "train = pd.merge(train,cantidadPostulacionesAviso10,how='left',on=['idaviso'])\n",
    "train['cantidadPostulacionesAviso10'] = train['cantidadPostulacionesAviso10'].fillna(0)"
   ]
  },
  {
   "cell_type": "markdown",
   "metadata": {},
   "source": [
    "### Normalizando los features numericos"
   ]
  },
  {
   "cell_type": "raw",
   "metadata": {},
   "source": []
  },
  {
   "cell_type": "code",
   "execution_count": 25,
   "metadata": {},
   "outputs": [],
   "source": [
    "x = train.iloc[:,4:].values \n",
    "min_max_scaler = MinMaxScaler()\n",
    "x_scaled = min_max_scaler.fit_transform(x)\n",
    "df = pd.DataFrame(x_scaled)\n",
    "df.columns = train.iloc[:,4:].keys()\n",
    "train = pd.concat([train.drop(train.iloc[:,4:].keys(),axis=1),df],axis=1)"
   ]
  },
  {
   "cell_type": "raw",
   "metadata": {},
   "source": []
  },
  {
   "cell_type": "code",
   "execution_count": 26,
   "metadata": {},
   "outputs": [],
   "source": [
    "test = train.loc[train['sepostulo']==2]"
   ]
  },
  {
   "cell_type": "code",
   "execution_count": 27,
   "metadata": {},
   "outputs": [
    {
     "data": {
      "text/plain": [
       "((100000, 17),\n",
       " Index(['id', 'idaviso', 'idpostulante', 'sepostulo', 'tipo_de_trabajo',\n",
       "        'nombre_area', 'cantidadDeVistas', 'vistasPorAvisoTotales',\n",
       "        'vistasPorPostulanteTotales', 'sexo', 'edad', 'nombre',\n",
       "        'cantidadPostulaciones10', 'cantidadPostulaciones4',\n",
       "        'cantidadPostulaciones', 'cantidadPostulacionesAviso4',\n",
       "        'cantidadPostulacionesAviso10'],\n",
       "       dtype='object'))"
      ]
     },
     "execution_count": 27,
     "metadata": {},
     "output_type": "execute_result"
    }
   ],
   "source": [
    "test.shape,test.columns"
   ]
  },
  {
   "cell_type": "code",
   "execution_count": 28,
   "metadata": {},
   "outputs": [],
   "source": [
    "test = test.drop('sepostulo',axis=1)\n",
    "train = train.drop('id',axis=1)"
   ]
  },
  {
   "cell_type": "code",
   "execution_count": 29,
   "metadata": {},
   "outputs": [],
   "source": [
    "train = train.loc[train['sepostulo'] != 2]"
   ]
  },
  {
   "cell_type": "code",
   "execution_count": 30,
   "metadata": {},
   "outputs": [
    {
     "data": {
      "text/plain": [
       "((100000, 16),\n",
       " Index(['id', 'idaviso', 'idpostulante', 'tipo_de_trabajo', 'nombre_area',\n",
       "        'cantidadDeVistas', 'vistasPorAvisoTotales',\n",
       "        'vistasPorPostulanteTotales', 'sexo', 'edad', 'nombre',\n",
       "        'cantidadPostulaciones10', 'cantidadPostulaciones4',\n",
       "        'cantidadPostulaciones', 'cantidadPostulacionesAviso4',\n",
       "        'cantidadPostulacionesAviso10'],\n",
       "       dtype='object'),\n",
       " (3992032, 16),\n",
       " Index(['idaviso', 'idpostulante', 'sepostulo', 'tipo_de_trabajo',\n",
       "        'nombre_area', 'cantidadDeVistas', 'vistasPorAvisoTotales',\n",
       "        'vistasPorPostulanteTotales', 'sexo', 'edad', 'nombre',\n",
       "        'cantidadPostulaciones10', 'cantidadPostulaciones4',\n",
       "        'cantidadPostulaciones', 'cantidadPostulacionesAviso4',\n",
       "        'cantidadPostulacionesAviso10'],\n",
       "       dtype='object'))"
      ]
     },
     "execution_count": 30,
     "metadata": {},
     "output_type": "execute_result"
    }
   ],
   "source": [
    "test.shape,test.columns,train.shape,train.columns"
   ]
  },
  {
   "cell_type": "code",
   "execution_count": null,
   "metadata": {},
   "outputs": [],
   "source": []
  },
  {
   "cell_type": "code",
   "execution_count": 31,
   "metadata": {},
   "outputs": [],
   "source": [
    "####### Agrego la cantidad de vistas y relleno con '0' las que no son vistas\n",
    "train = pd.merge(train,cantidadVistas15,how='left',on=['idaviso','idpostulante',])\n",
    "train['cantidadDeVistas15'] = train['cantidadDeVistas15'].fillna(0)\n",
    "train = pd.merge(train,cantidadVistasPorAviso15,how='left',on=['idaviso'])\n",
    "train['vistasPorAviso15'] = train['vistasPorAviso15'].fillna(0)\n",
    "train = pd.merge(train,cantidadVistasPorPostulante15,how='left',on=['idpostulante',])\n",
    "train['vistasPorPostulante15'] = train['vistasPorPostulante15'].fillna(0)"
   ]
  },
  {
   "cell_type": "code",
   "execution_count": 32,
   "metadata": {},
   "outputs": [
    {
     "data": {
      "text/plain": [
       "Index(['idaviso', 'idpostulante', 'sepostulo', 'tipo_de_trabajo',\n",
       "       'nombre_area', 'cantidadDeVistas', 'vistasPorAvisoTotales',\n",
       "       'vistasPorPostulanteTotales', 'sexo', 'edad', 'nombre',\n",
       "       'cantidadPostulaciones10', 'cantidadPostulaciones4',\n",
       "       'cantidadPostulaciones', 'cantidadPostulacionesAviso4',\n",
       "       'cantidadPostulacionesAviso10', 'cantidadDeVistas15',\n",
       "       'vistasPorAviso15', 'vistasPorPostulante15'],\n",
       "      dtype='object')"
      ]
     },
     "execution_count": 32,
     "metadata": {},
     "output_type": "execute_result"
    }
   ],
   "source": [
    "train.columns"
   ]
  },
  {
   "cell_type": "code",
   "execution_count": null,
   "metadata": {},
   "outputs": [],
   "source": []
  },
  {
   "cell_type": "code",
   "execution_count": 33,
   "metadata": {},
   "outputs": [],
   "source": [
    "x = train[['cantidadDeVistas15','vistasPorAviso15','vistasPorPostulante15']].values\n",
    "min_max_scaler = MinMaxScaler()\n",
    "x_scaled = min_max_scaler.fit_transform(x)\n",
    "df = pd.DataFrame(x_scaled)\n",
    "df.columns = train[['cantidadDeVistas15','vistasPorAviso15','vistasPorPostulante15']].keys()\n",
    "train = pd.concat([train[train.columns.difference(['cantidadDeVistas15','vistasPorAviso15','vistasPorPostulante15'])],df],axis=1)"
   ]
  },
  {
   "cell_type": "code",
   "execution_count": 34,
   "metadata": {},
   "outputs": [],
   "source": [
    "####### Agrego la cantidad de vistas y relleno con '0' las que no son vistas\n",
    "test = pd.merge(test,cantidadVistasTest,how='left',on=['idaviso','idpostulante',])\n",
    "test['cantidadDeVistas15'] = test['cantidadDeVistas15'].fillna(0)\n",
    "test = pd.merge(test,cantidadVistasPorAvisoTest,how='left',on=['idaviso'])\n",
    "test['vistasPorAviso15'] = test['vistasPorAviso15'].fillna(0)\n",
    "test = pd.merge(test,cantidadVistasPorPostulanteTest,how='left',on=['idpostulante',])\n",
    "test['vistasPorPostulante15'] = test['vistasPorPostulante15'].fillna(0)"
   ]
  },
  {
   "cell_type": "code",
   "execution_count": 35,
   "metadata": {},
   "outputs": [],
   "source": [
    "x = test[['cantidadDeVistas15','vistasPorAviso15','vistasPorPostulante15']].values\n",
    "min_max_scaler = MinMaxScaler()\n",
    "x_scaled = min_max_scaler.fit_transform(x)\n",
    "df = pd.DataFrame(x_scaled)\n",
    "df.columns = test[['cantidadDeVistas15','vistasPorAviso15','vistasPorPostulante15']].keys()\n",
    "test = pd.concat([test[test.columns.difference(['cantidadDeVistas15','vistasPorAviso15','vistasPorPostulante15'])],df],axis=1)"
   ]
  },
  {
   "cell_type": "code",
   "execution_count": 41,
   "metadata": {},
   "outputs": [],
   "source": [
    "#testid = test['id']\n",
    "#train_y = train['sepostulo']\n",
    "test = test.drop(['idaviso','idpostulante', 'nombre_area','tipo_de_trabajo','sexo'],axis=1)\n",
    "train = train.drop(['idaviso','idpostulante', 'nombre_area','tipo_de_trabajo','sexo'],axis=1)"
   ]
  },
  {
   "cell_type": "code",
   "execution_count": 37,
   "metadata": {},
   "outputs": [],
   "source": [
    "test = test.drop(['id'],axis=1)\n",
    "train = train.drop(['sepostulo'],axis = 1)"
   ]
  },
  {
   "cell_type": "code",
   "execution_count": 53,
   "metadata": {},
   "outputs": [
    {
     "data": {
      "text/plain": [
       "cantidadDeVistas                float64\n",
       "cantidadPostulaciones           float64\n",
       "cantidadPostulaciones10         float64\n",
       "cantidadPostulaciones4          float64\n",
       "cantidadPostulacionesAviso10    float64\n",
       "cantidadPostulacionesAviso4     float64\n",
       "edad                            float64\n",
       "nombre                          float64\n",
       "vistasPorAvisoTotales           float64\n",
       "vistasPorPostulanteTotales      float64\n",
       "cantidadDeVistas15              float64\n",
       "vistasPorAviso15                float64\n",
       "vistasPorPostulante15           float64\n",
       "dtype: object"
      ]
     },
     "execution_count": 53,
     "metadata": {},
     "output_type": "execute_result"
    }
   ],
   "source": [
    "train.dtypes"
   ]
  },
  {
   "cell_type": "raw",
   "metadata": {},
   "source": []
  },
  {
   "cell_type": "markdown",
   "metadata": {},
   "source": [
    "#### XGBOOST"
   ]
  },
  {
   "cell_type": "raw",
   "metadata": {},
   "source": []
  },
  {
   "cell_type": "code",
   "execution_count": 64,
   "metadata": {},
   "outputs": [],
   "source": [
    "xgb1 = xgb.XGBClassifier(eval_metric='auc',n_jobs=-1,silent=False,learning_rate=0.05,n_estimators=150)"
   ]
  },
  {
   "cell_type": "code",
   "execution_count": 65,
   "metadata": {},
   "outputs": [
    {
     "data": {
      "text/plain": [
       "XGBClassifier(base_score=0.5, booster='gbtree', colsample_bylevel=1,\n",
       "       colsample_bytree=1, eval_metric='auc', gamma=0, learning_rate=0.05,\n",
       "       max_delta_step=0, max_depth=3, min_child_weight=1, missing=None,\n",
       "       n_estimators=150, n_jobs=-1, nthread=None,\n",
       "       objective='binary:logistic', random_state=0, reg_alpha=0,\n",
       "       reg_lambda=1, scale_pos_weight=1, seed=None, silent=False,\n",
       "       subsample=1)"
      ]
     },
     "execution_count": 65,
     "metadata": {},
     "output_type": "execute_result"
    }
   ],
   "source": [
    "xgb1.fit(train,train_y)"
   ]
  },
  {
   "cell_type": "code",
   "execution_count": 66,
   "metadata": {},
   "outputs": [
    {
     "data": {
      "text/plain": [
       "<BarContainer object of 13 artists>"
      ]
     },
     "execution_count": 66,
     "metadata": {},
     "output_type": "execute_result"
    },
    {
     "data": {
      "image/png": "[encoded data removed]",
      "text/plain": [
       "<Figure size 1440x720 with 1 Axes>"
      ]
     },
     "metadata": {},
     "output_type": "display_data"
    }
   ],
   "source": [
    "plt.figure(figsize=(20,10))\n",
    "plt.bar(train.columns.values,xgb1.feature_importances_)"
   ]
  },
  {
   "cell_type": "code",
   "execution_count": 67,
   "metadata": {},
   "outputs": [
    {
     "name": "stderr",
     "output_type": "stream",
     "text": [
      "/home/pcsor/anaconda3/lib/python3.6/site-packages/sklearn/preprocessing/label.py:151: DeprecationWarning: The truth value of an empty array is ambiguous. Returning False, but in future this will result in an error. Use `array.size > 0` to check that an array is not empty.\n",
      "  if diff:\n"
     ]
    },
    {
     "data": {
      "text/plain": [
       "0.35347"
      ]
     },
     "execution_count": 67,
     "metadata": {},
     "output_type": "execute_result"
    }
   ],
   "source": [
    "predic = xgb1.predict(test) \n",
    "predic.mean()"
   ]
  },
  {
   "cell_type": "code",
   "execution_count": 68,
   "metadata": {},
   "outputs": [],
   "source": [
    "submit = pd.DataFrame()\n",
    "submit['id'] = testid\n",
    "submit['sepostulo'] = predic\n",
    "submit['id'] = submit['id'].apply(int)\n",
    "submit.to_csv('/home/pcsor/facu/TP2/submit1.csv',index=False)"
   ]
  },
  {
   "cell_type": "code",
   "execution_count": null,
   "metadata": {},
   "outputs": [],
   "source": []
  }
 ],
 "metadata": {
  "kernelspec": {
   "display_name": "Python 3",
   "language": "python",
   "name": "python3"
  },
  "language_info": {
   "codemirror_mode": {
    "name": "ipython",
    "version": 3
   },
   "file_extension": ".py",
   "mimetype": "text/x-python",
   "name": "python",
   "nbconvert_exporter": "python",
   "pygments_lexer": "ipython3",
   "version": "3.6.4"
  }
 },
 "nbformat": 4,
 "nbformat_minor": 2
}

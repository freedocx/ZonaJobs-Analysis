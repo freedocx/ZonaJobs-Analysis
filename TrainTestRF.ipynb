{
 "cells": [
  {
   "cell_type": "code",
   "execution_count": 33,
   "metadata": {},
   "outputs": [],
   "source": [
    "import pandas as pd\n",
    "import numpy as np\n",
    "from sklearn.preprocessing import LabelEncoder\n",
    "from sklearn.utils import shuffle\n",
    "from sklearn.ensemble import RandomForestClassifier\n",
    "import matplotlib.pyplot as plt\n",
    "%matplotlib inline\n",
    "from sklearn.model_selection import cross_val_score"
   ]
  },
  {
   "cell_type": "markdown",
   "metadata": {},
   "source": [
    "### Cargo los archivos\n",
    "\n",
    "* Previamente los genere con las notebook subidas\n",
    "* Los avisos tienen 250 columnas con las matrices 'UxE' de la salida de aplicar SVD,\n",
    "    pero por ahora no las uso.\n",
    "* Las vistas contienen la cantidad de vistas"
   ]
  },
  {
   "cell_type": "code",
   "execution_count": 34,
   "metadata": {},
   "outputs": [],
   "source": [
    "post = pd.read_csv('/home/pcsor/facu/TP2/postulaciones.csv',low_memory=False)\n",
    "avisos = pd.read_csv('/home/pcsor/facu/TP2/avisos5.csv',low_memory=False)\n",
    "postulantes = pd.read_csv('/home/pcsor/facu/TP2/postulantes.csv',low_memory=False)\n",
    "test = pd.read_csv('/home/pcsor/facu/TP2/test_final_100k.csv',low_memory=False)\n",
    "cantidadVistas = pd.read_csv('/home/pcsor/facu/TP2/cantidadVistas.csv',low_memory=False)\n",
    "cantidadVistas15 = pd.read_csv('/home/pcsor/facu/TP2/cantidadVistas15.csv',low_memory=False)\n",
    "cantidadVistasTest = pd.read_csv('/home/pcsor/facu/TP2/cantidadVistasTest.csv',low_memory=False)\n",
    "cantidadVistasTotalesPorAviso = pd.read_csv('/home/pcsor/facu/TP2/cantidadVistasTotalesPorAviso.csv',low_memory=False)\n",
    "cantidadVistasPorAviso15 = pd.read_csv('/home/pcsor/facu/TP2/cantidadVistasPorAviso15.csv',low_memory=False)\n",
    "cantidadVistasPorAvisoTest = pd.read_csv('/home/pcsor/facu/TP2/cantidadVistasPorAvisoTest.csv',low_memory=False)\n",
    "cantidadVistasTotalesPorPostulante = pd.read_csv('/home/pcsor/facu/TP2/cantidadVistasTotalesPorPostulante.csv',low_memory=False)\n",
    "cantidadVistasPorPostulante15 = pd.read_csv('/home/pcsor/facu/TP2/cantidadVistasPorPostulante15.csv',low_memory=False)\n",
    "cantidadVistasPorPostulanteTest = pd.read_csv('/home/pcsor/facu/TP2/cantidadVistasPorPostulanteTest.csv',low_memory=False)"
   ]
  },
  {
   "cell_type": "code",
   "execution_count": null,
   "metadata": {},
   "outputs": [],
   "source": []
  },
  {
   "cell_type": "code",
   "execution_count": 35,
   "metadata": {},
   "outputs": [],
   "source": [
    "###### Drop a las columnas que no se utilizan\n",
    "features = list(set(avisos.columns) - set(['idaviso', 'nivel_laboral','tipo_de_trabajo','nombre_area']))\n",
    "avisos = avisos.drop(features,axis=1)"
   ]
  },
  {
   "cell_type": "code",
   "execution_count": 36,
   "metadata": {},
   "outputs": [],
   "source": [
    "post['sepostulo'] = 1\n",
    "test['sepostulo'] = 2"
   ]
  },
  {
   "cell_type": "code",
   "execution_count": 37,
   "metadata": {},
   "outputs": [
    {
     "data": {
      "text/plain": [
       "((100000, 4),\n",
       " Index(['id', 'idaviso', 'idpostulante', 'sepostulo'], dtype='object'))"
      ]
     },
     "execution_count": 37,
     "metadata": {},
     "output_type": "execute_result"
    }
   ],
   "source": [
    "test.shape,test.columns"
   ]
  },
  {
   "cell_type": "code",
   "execution_count": 38,
   "metadata": {},
   "outputs": [],
   "source": [
    "##### Se arma un Trainset con dummys\n",
    "train = pd.DataFrame()\n",
    "train['idaviso'] = shuffle(post['idaviso'][0:7000000]).reset_index()['idaviso']\n",
    "train['idpostulante'] = shuffle(post['idpostulante'][0:7000000]).reset_index()['idpostulante']\n",
    "train['sepostulo'] = 0"
   ]
  },
  {
   "cell_type": "code",
   "execution_count": 39,
   "metadata": {},
   "outputs": [],
   "source": [
    "##### Se controla que los dummys con '0' NO sean postulaciones reales\n",
    "train = pd.merge(train, post, how='left', on=['idpostulante', 'idaviso'], indicator=True)\n",
    "train = train.query('_merge != \"both\"')\n",
    "train = train.drop(['_merge','sepostulo_y','fechapostulacion'],axis=1)\n",
    "train.columns = ['idaviso','idpostulante','sepostulo']"
   ]
  },
  {
   "cell_type": "code",
   "execution_count": 40,
   "metadata": {},
   "outputs": [],
   "source": [
    "##### Se controla que los dummys NO esten en las postulaciones a predecir\n",
    "train = pd.merge(train, test, how='left', on=['idpostulante', 'idaviso'], indicator=True)\n",
    "train = train.query('_merge != \"both\"')\n",
    "train = train.drop(['_merge','id','sepostulo_y'],axis=1)\n",
    "train.columns = ['idaviso','idpostulante','sepostulo']"
   ]
  },
  {
   "cell_type": "code",
   "execution_count": 41,
   "metadata": {},
   "outputs": [
    {
     "data": {
      "text/plain": [
       "(Index(['idaviso', 'idpostulante', 'sepostulo'], dtype='object'), (6456018, 3))"
      ]
     },
     "execution_count": 41,
     "metadata": {},
     "output_type": "execute_result"
    }
   ],
   "source": [
    "train.columns,train.shape"
   ]
  },
  {
   "cell_type": "code",
   "execution_count": null,
   "metadata": {},
   "outputs": [],
   "source": []
  },
  {
   "cell_type": "code",
   "execution_count": 42,
   "metadata": {},
   "outputs": [],
   "source": [
    "train = train.drop_duplicates(['idaviso','idpostulante'])"
   ]
  },
  {
   "cell_type": "code",
   "execution_count": 43,
   "metadata": {},
   "outputs": [
    {
     "data": {
      "text/plain": [
       "((6383708, 3), (6603752, 4))"
      ]
     },
     "execution_count": 43,
     "metadata": {},
     "output_type": "execute_result"
    }
   ],
   "source": [
    "train.shape,post.shape"
   ]
  },
  {
   "cell_type": "code",
   "execution_count": null,
   "metadata": {},
   "outputs": [],
   "source": []
  },
  {
   "cell_type": "code",
   "execution_count": 44,
   "metadata": {},
   "outputs": [
    {
     "data": {
      "text/html": [
       "<div>\n",
       "<style scoped>\n",
       "    .dataframe tbody tr th:only-of-type {\n",
       "        vertical-align: middle;\n",
       "    }\n",
       "\n",
       "    .dataframe tbody tr th {\n",
       "        vertical-align: top;\n",
       "    }\n",
       "\n",
       "    .dataframe thead th {\n",
       "        text-align: right;\n",
       "    }\n",
       "</style>\n",
       "<table border=\"1\" class=\"dataframe\">\n",
       "  <thead>\n",
       "    <tr style=\"text-align: right;\">\n",
       "      <th></th>\n",
       "      <th>idaviso</th>\n",
       "      <th>idpostulante</th>\n",
       "      <th>sepostulo</th>\n",
       "    </tr>\n",
       "  </thead>\n",
       "  <tbody>\n",
       "    <tr>\n",
       "      <th>0</th>\n",
       "      <td>1112470106</td>\n",
       "      <td>W9keddN</td>\n",
       "      <td>1</td>\n",
       "    </tr>\n",
       "    <tr>\n",
       "      <th>1</th>\n",
       "      <td>1112454333</td>\n",
       "      <td>ZDr9NB1</td>\n",
       "      <td>1</td>\n",
       "    </tr>\n",
       "    <tr>\n",
       "      <th>2</th>\n",
       "      <td>1112467020</td>\n",
       "      <td>bOjXla0</td>\n",
       "      <td>1</td>\n",
       "    </tr>\n",
       "  </tbody>\n",
       "</table>\n",
       "</div>"
      ],
      "text/plain": [
       "      idaviso idpostulante  sepostulo\n",
       "0  1112470106      W9keddN          1\n",
       "1  1112454333      ZDr9NB1          1\n",
       "2  1112467020      bOjXla0          1"
      ]
     },
     "execution_count": 44,
     "metadata": {},
     "output_type": "execute_result"
    }
   ],
   "source": [
    "###### Se filtran las postulaciones antiguas\n",
    "post = post.sort_values(by='fechapostulacion',ascending=False)\n",
    "post = post.reset_index().drop('index',axis=1)\n",
    "abril = '2018-04-01 00:00:00'\n",
    "post = post.loc[post['fechapostulacion']>abril]\n",
    "post = post.drop(['fechapostulacion'], axis=1)\n",
    "post[0:3]"
   ]
  },
  {
   "cell_type": "code",
   "execution_count": 45,
   "metadata": {},
   "outputs": [],
   "source": [
    "####### Se juntan los dummys con las postulaciones filtradas\n",
    "train = pd.concat([train,post])\n",
    "train = shuffle(train)\n",
    "train = train.reset_index().drop('index',axis=1)\n",
    "train = train.drop_duplicates(['idaviso','idpostulante'])"
   ]
  },
  {
   "cell_type": "code",
   "execution_count": 46,
   "metadata": {},
   "outputs": [],
   "source": [
    "train = pd.concat([train,test])"
   ]
  },
  {
   "cell_type": "code",
   "execution_count": 47,
   "metadata": {},
   "outputs": [
    {
     "data": {
      "text/html": [
       "<div>\n",
       "<style scoped>\n",
       "    .dataframe tbody tr th:only-of-type {\n",
       "        vertical-align: middle;\n",
       "    }\n",
       "\n",
       "    .dataframe tbody tr th {\n",
       "        vertical-align: top;\n",
       "    }\n",
       "\n",
       "    .dataframe thead th {\n",
       "        text-align: right;\n",
       "    }\n",
       "</style>\n",
       "<table border=\"1\" class=\"dataframe\">\n",
       "  <thead>\n",
       "    <tr style=\"text-align: right;\">\n",
       "      <th></th>\n",
       "      <th>id</th>\n",
       "      <th>idaviso</th>\n",
       "      <th>idpostulante</th>\n",
       "      <th>sepostulo</th>\n",
       "      <th>tipo_de_trabajo</th>\n",
       "      <th>nombre_area</th>\n",
       "      <th>nivel_laboral</th>\n",
       "    </tr>\n",
       "  </thead>\n",
       "  <tbody>\n",
       "    <tr>\n",
       "      <th>0</th>\n",
       "      <td>NaN</td>\n",
       "      <td>1112358902</td>\n",
       "      <td>W9kAmka</td>\n",
       "      <td>0</td>\n",
       "      <td>1.0</td>\n",
       "      <td>143.0</td>\n",
       "      <td>4.0</td>\n",
       "    </tr>\n",
       "    <tr>\n",
       "      <th>1</th>\n",
       "      <td>NaN</td>\n",
       "      <td>1112221312</td>\n",
       "      <td>Nzdzwo4</td>\n",
       "      <td>0</td>\n",
       "      <td>2.0</td>\n",
       "      <td>24.0</td>\n",
       "      <td>2.0</td>\n",
       "    </tr>\n",
       "    <tr>\n",
       "      <th>2</th>\n",
       "      <td>NaN</td>\n",
       "      <td>1112317812</td>\n",
       "      <td>lDwxdb1</td>\n",
       "      <td>0</td>\n",
       "      <td>1.0</td>\n",
       "      <td>115.0</td>\n",
       "      <td>4.0</td>\n",
       "    </tr>\n",
       "  </tbody>\n",
       "</table>\n",
       "</div>"
      ],
      "text/plain": [
       "   id     idaviso idpostulante  sepostulo  tipo_de_trabajo  nombre_area  \\\n",
       "0 NaN  1112358902      W9kAmka          0              1.0        143.0   \n",
       "1 NaN  1112221312      Nzdzwo4          0              2.0         24.0   \n",
       "2 NaN  1112317812      lDwxdb1          0              1.0        115.0   \n",
       "\n",
       "   nivel_laboral  \n",
       "0            4.0  \n",
       "1            2.0  \n",
       "2            4.0  "
      ]
     },
     "execution_count": 47,
     "metadata": {},
     "output_type": "execute_result"
    }
   ],
   "source": [
    "####### Se agregan los features de los avisos\n",
    "train = pd.merge(train,avisos,how='left',on='idaviso',indicator=True)\n",
    "train = train.query('_merge != \"left_only\"')\n",
    "train = train.drop(['_merge'],axis=1)\n",
    "train[0:3]"
   ]
  },
  {
   "cell_type": "code",
   "execution_count": 48,
   "metadata": {},
   "outputs": [],
   "source": [
    "####### Agrego la cantidad de vistas y relleno con '0' las que no son vistas\n",
    "train = pd.merge(train,cantidadVistas,how='left',on=['idaviso','idpostulante',])\n",
    "train['cantidadDeVistas'] = train['cantidadDeVistas'].fillna(0)"
   ]
  },
  {
   "cell_type": "code",
   "execution_count": 49,
   "metadata": {},
   "outputs": [],
   "source": [
    "train = pd.merge(train,cantidadVistasTotalesPorAviso,how='left',on=['idaviso'])\n",
    "train['vistasPorAvisoTotales'] = train['vistasPorAvisoTotales'].fillna(0)"
   ]
  },
  {
   "cell_type": "code",
   "execution_count": 50,
   "metadata": {},
   "outputs": [],
   "source": [
    "train = pd.merge(train,cantidadVistasTotalesPorPostulante,how='left',on=['idpostulante'])\n",
    "train['vistasPorPostulanteTotales'] = train['vistasPorPostulanteTotales'].fillna(0)"
   ]
  },
  {
   "cell_type": "code",
   "execution_count": 51,
   "metadata": {},
   "outputs": [
    {
     "data": {
      "text/plain": [
       "(100.64682868058702, 2798.5816715989804, 0.2693519768237348)"
      ]
     },
     "execution_count": 51,
     "metadata": {},
     "output_type": "execute_result"
    }
   ],
   "source": [
    "train['vistasPorPostulanteTotales'].mean(),train['vistasPorAvisoTotales'].mean(),train['cantidadDeVistas'].mean()"
   ]
  },
  {
   "cell_type": "code",
   "execution_count": 52,
   "metadata": {},
   "outputs": [
    {
     "data": {
      "text/html": [
       "<div>\n",
       "<style scoped>\n",
       "    .dataframe tbody tr th:only-of-type {\n",
       "        vertical-align: middle;\n",
       "    }\n",
       "\n",
       "    .dataframe tbody tr th {\n",
       "        vertical-align: top;\n",
       "    }\n",
       "\n",
       "    .dataframe thead th {\n",
       "        text-align: right;\n",
       "    }\n",
       "</style>\n",
       "<table border=\"1\" class=\"dataframe\">\n",
       "  <thead>\n",
       "    <tr style=\"text-align: right;\">\n",
       "      <th></th>\n",
       "      <th>id</th>\n",
       "      <th>idaviso</th>\n",
       "      <th>idpostulante</th>\n",
       "      <th>sepostulo</th>\n",
       "      <th>tipo_de_trabajo</th>\n",
       "      <th>nombre_area</th>\n",
       "      <th>nivel_laboral</th>\n",
       "      <th>cantidadDeVistas</th>\n",
       "      <th>vistasPorAvisoTotales</th>\n",
       "      <th>vistasPorPostulanteTotales</th>\n",
       "    </tr>\n",
       "  </thead>\n",
       "  <tbody>\n",
       "    <tr>\n",
       "      <th>0</th>\n",
       "      <td>NaN</td>\n",
       "      <td>1112358902</td>\n",
       "      <td>W9kAmka</td>\n",
       "      <td>0</td>\n",
       "      <td>1.0</td>\n",
       "      <td>143.0</td>\n",
       "      <td>4.0</td>\n",
       "      <td>0.0</td>\n",
       "      <td>376.0</td>\n",
       "      <td>53.0</td>\n",
       "    </tr>\n",
       "    <tr>\n",
       "      <th>1</th>\n",
       "      <td>NaN</td>\n",
       "      <td>1112221312</td>\n",
       "      <td>Nzdzwo4</td>\n",
       "      <td>0</td>\n",
       "      <td>2.0</td>\n",
       "      <td>24.0</td>\n",
       "      <td>2.0</td>\n",
       "      <td>0.0</td>\n",
       "      <td>1.0</td>\n",
       "      <td>109.0</td>\n",
       "    </tr>\n",
       "    <tr>\n",
       "      <th>2</th>\n",
       "      <td>NaN</td>\n",
       "      <td>1112317812</td>\n",
       "      <td>lDwxdb1</td>\n",
       "      <td>0</td>\n",
       "      <td>1.0</td>\n",
       "      <td>115.0</td>\n",
       "      <td>4.0</td>\n",
       "      <td>0.0</td>\n",
       "      <td>80.0</td>\n",
       "      <td>30.0</td>\n",
       "    </tr>\n",
       "    <tr>\n",
       "      <th>3</th>\n",
       "      <td>NaN</td>\n",
       "      <td>1111945045</td>\n",
       "      <td>pzdRYxL</td>\n",
       "      <td>0</td>\n",
       "      <td>1.0</td>\n",
       "      <td>86.0</td>\n",
       "      <td>2.0</td>\n",
       "      <td>0.0</td>\n",
       "      <td>99.0</td>\n",
       "      <td>0.0</td>\n",
       "    </tr>\n",
       "  </tbody>\n",
       "</table>\n",
       "</div>"
      ],
      "text/plain": [
       "   id     idaviso idpostulante  sepostulo  tipo_de_trabajo  nombre_area  \\\n",
       "0 NaN  1112358902      W9kAmka          0              1.0        143.0   \n",
       "1 NaN  1112221312      Nzdzwo4          0              2.0         24.0   \n",
       "2 NaN  1112317812      lDwxdb1          0              1.0        115.0   \n",
       "3 NaN  1111945045      pzdRYxL          0              1.0         86.0   \n",
       "\n",
       "   nivel_laboral  cantidadDeVistas  vistasPorAvisoTotales  \\\n",
       "0            4.0               0.0                  376.0   \n",
       "1            2.0               0.0                    1.0   \n",
       "2            4.0               0.0                   80.0   \n",
       "3            2.0               0.0                   99.0   \n",
       "\n",
       "   vistasPorPostulanteTotales  \n",
       "0                        53.0  \n",
       "1                       109.0  \n",
       "2                        30.0  \n",
       "3                         0.0  "
      ]
     },
     "execution_count": 52,
     "metadata": {},
     "output_type": "execute_result"
    }
   ],
   "source": [
    "train[0:4]"
   ]
  },
  {
   "cell_type": "code",
   "execution_count": 53,
   "metadata": {},
   "outputs": [],
   "source": [
    "####### Agrego los datos de los postulantes y se rellenan los NaNs con el promedio\n",
    "train = pd.merge(train,postulantes,how='left',on=['idpostulante'])\n",
    "train['edad'] = train['edad'].fillna(int(train['edad'].mean()))\n",
    "train['nombre'] = train['nombre'].fillna(int(train['nombre'].mean()))\n",
    "train = train.drop('estado',axis = 1)"
   ]
  },
  {
   "cell_type": "code",
   "execution_count": 54,
   "metadata": {},
   "outputs": [],
   "source": [
    "####### Se realiza un encoding de los IDS\n",
    "lb_make = LabelEncoder()\n",
    "train['idpostulanteE'] = lb_make.fit_transform(train['idpostulante'] )\n",
    "train['idavisoE'] = lb_make.fit_transform(train['idaviso'] )"
   ]
  },
  {
   "cell_type": "code",
   "execution_count": 55,
   "metadata": {},
   "outputs": [],
   "source": [
    "test = train.loc[train['sepostulo']==2]"
   ]
  },
  {
   "cell_type": "code",
   "execution_count": 56,
   "metadata": {},
   "outputs": [
    {
     "data": {
      "text/plain": [
       "((100000, 15),\n",
       " Index(['id', 'idaviso', 'idpostulante', 'sepostulo', 'tipo_de_trabajo',\n",
       "        'nombre_area', 'nivel_laboral', 'cantidadDeVistas',\n",
       "        'vistasPorAvisoTotales', 'vistasPorPostulanteTotales', 'sexo', 'edad',\n",
       "        'nombre', 'idpostulanteE', 'idavisoE'],\n",
       "       dtype='object'))"
      ]
     },
     "execution_count": 56,
     "metadata": {},
     "output_type": "execute_result"
    }
   ],
   "source": [
    "test.shape,test.columns"
   ]
  },
  {
   "cell_type": "code",
   "execution_count": 57,
   "metadata": {},
   "outputs": [],
   "source": [
    "test = test.drop('sepostulo',axis=1)\n",
    "train = train.drop('id',axis=1)"
   ]
  },
  {
   "cell_type": "code",
   "execution_count": 58,
   "metadata": {},
   "outputs": [],
   "source": [
    "train = train.loc[train['sepostulo'] != 2]"
   ]
  },
  {
   "cell_type": "code",
   "execution_count": 59,
   "metadata": {},
   "outputs": [
    {
     "data": {
      "text/plain": [
       "((100000, 14),\n",
       " Index(['id', 'idaviso', 'idpostulante', 'tipo_de_trabajo', 'nombre_area',\n",
       "        'nivel_laboral', 'cantidadDeVistas', 'vistasPorAvisoTotales',\n",
       "        'vistasPorPostulanteTotales', 'sexo', 'edad', 'nombre', 'idpostulanteE',\n",
       "        'idavisoE'],\n",
       "       dtype='object'),\n",
       " (7180897, 14),\n",
       " Index(['idaviso', 'idpostulante', 'sepostulo', 'tipo_de_trabajo',\n",
       "        'nombre_area', 'nivel_laboral', 'cantidadDeVistas',\n",
       "        'vistasPorAvisoTotales', 'vistasPorPostulanteTotales', 'sexo', 'edad',\n",
       "        'nombre', 'idpostulanteE', 'idavisoE'],\n",
       "       dtype='object'))"
      ]
     },
     "execution_count": 59,
     "metadata": {},
     "output_type": "execute_result"
    }
   ],
   "source": [
    "test.shape,test.columns,train.shape,train.columns"
   ]
  },
  {
   "cell_type": "code",
   "execution_count": null,
   "metadata": {},
   "outputs": [],
   "source": []
  },
  {
   "cell_type": "code",
   "execution_count": 60,
   "metadata": {},
   "outputs": [],
   "source": [
    "####### Agrego la cantidad de vistas y relleno con '0' las que no son vistas\n",
    "train = pd.merge(train,cantidadVistas15,how='left',on=['idaviso','idpostulante',])\n",
    "train['cantidadDeVistas15'] = train['cantidadDeVistas15'].fillna(0)\n",
    "train = pd.merge(train,cantidadVistasPorAviso15,how='left',on=['idaviso'])\n",
    "train['vistasPorAviso15'] = train['vistasPorAviso15'].fillna(0)\n",
    "train = pd.merge(train,cantidadVistasPorPostulante15,how='left',on=['idpostulante',])\n",
    "train['vistasPorPostulante15'] = train['vistasPorPostulante15'].fillna(0)"
   ]
  },
  {
   "cell_type": "code",
   "execution_count": 61,
   "metadata": {},
   "outputs": [],
   "source": [
    "####### Agrego la cantidad de vistas y relleno con '0' las que no son vistas\n",
    "test = pd.merge(test,cantidadVistasTest,how='left',on=['idaviso','idpostulante',])\n",
    "test['cantidadDeVistas15'] = test['cantidadDeVistas15'].fillna(0)\n",
    "test = pd.merge(test,cantidadVistasPorAvisoTest,how='left',on=['idaviso'])\n",
    "test['vistasPorAviso15'] = test['vistasPorAviso15'].fillna(0)\n",
    "test = pd.merge(test,cantidadVistasPorPostulanteTest,how='left',on=['idpostulante',])\n",
    "test['vistasPorPostulante15'] = test['vistasPorPostulante15'].fillna(0)"
   ]
  },
  {
   "cell_type": "code",
   "execution_count": 64,
   "metadata": {},
   "outputs": [
    {
     "data": {
      "text/plain": [
       "(Index(['id', 'tipo_de_trabajo', 'nombre_area', 'nivel_laboral',\n",
       "        'cantidadDeVistas', 'vistasPorAvisoTotales',\n",
       "        'vistasPorPostulanteTotales', 'sexo', 'edad', 'nombre', 'idpostulanteE',\n",
       "        'idavisoE', 'cantidadDeVistas15', 'vistasPorAviso15',\n",
       "        'vistasPorPostulante15'],\n",
       "       dtype='object'),\n",
       " Index(['sepostulo', 'tipo_de_trabajo', 'nombre_area', 'nivel_laboral',\n",
       "        'cantidadDeVistas', 'vistasPorAvisoTotales',\n",
       "        'vistasPorPostulanteTotales', 'sexo', 'edad', 'nombre', 'idpostulanteE',\n",
       "        'idavisoE', 'cantidadDeVistas15', 'vistasPorAviso15',\n",
       "        'vistasPorPostulante15'],\n",
       "       dtype='object'))"
      ]
     },
     "execution_count": 64,
     "metadata": {},
     "output_type": "execute_result"
    }
   ],
   "source": [
    "test.columns,train.columns"
   ]
  },
  {
   "cell_type": "code",
   "execution_count": 87,
   "metadata": {},
   "outputs": [],
   "source": [
    "test = test.drop(['idaviso','idpostulante','nivel_laboral','tipo_de_trabajo'],axis=1)\n",
    "train = train.drop(['idaviso','idpostulante','nivel_laboral','tipo_de_trabajo'],axis=1)"
   ]
  },
  {
   "cell_type": "code",
   "execution_count": 73,
   "metadata": {},
   "outputs": [
    {
     "data": {
      "text/html": [
       "<div>\n",
       "<style scoped>\n",
       "    .dataframe tbody tr th:only-of-type {\n",
       "        vertical-align: middle;\n",
       "    }\n",
       "\n",
       "    .dataframe tbody tr th {\n",
       "        vertical-align: top;\n",
       "    }\n",
       "\n",
       "    .dataframe thead th {\n",
       "        text-align: right;\n",
       "    }\n",
       "</style>\n",
       "<table border=\"1\" class=\"dataframe\">\n",
       "  <thead>\n",
       "    <tr style=\"text-align: right;\">\n",
       "      <th></th>\n",
       "      <th>tipo_de_trabajo</th>\n",
       "      <th>nombre_area</th>\n",
       "      <th>nivel_laboral</th>\n",
       "      <th>cantidadDeVistas</th>\n",
       "      <th>vistasPorAvisoTotales</th>\n",
       "      <th>vistasPorPostulanteTotales</th>\n",
       "      <th>sexo</th>\n",
       "      <th>edad</th>\n",
       "      <th>nombre</th>\n",
       "      <th>idpostulanteE</th>\n",
       "      <th>idavisoE</th>\n",
       "      <th>cantidadDeVistas15</th>\n",
       "      <th>vistasPorAviso15</th>\n",
       "      <th>vistasPorPostulante15</th>\n",
       "    </tr>\n",
       "    <tr>\n",
       "      <th>sepostulo</th>\n",
       "      <th></th>\n",
       "      <th></th>\n",
       "      <th></th>\n",
       "      <th></th>\n",
       "      <th></th>\n",
       "      <th></th>\n",
       "      <th></th>\n",
       "      <th></th>\n",
       "      <th></th>\n",
       "      <th></th>\n",
       "      <th></th>\n",
       "      <th></th>\n",
       "      <th></th>\n",
       "      <th></th>\n",
       "    </tr>\n",
       "  </thead>\n",
       "  <tbody>\n",
       "    <tr>\n",
       "      <th>0</th>\n",
       "      <td>5978370</td>\n",
       "      <td>5978370</td>\n",
       "      <td>5978370</td>\n",
       "      <td>5978370</td>\n",
       "      <td>5978370</td>\n",
       "      <td>5978370</td>\n",
       "      <td>5978370</td>\n",
       "      <td>5978370</td>\n",
       "      <td>5978370</td>\n",
       "      <td>5978370</td>\n",
       "      <td>5978370</td>\n",
       "      <td>5978370</td>\n",
       "      <td>5978370</td>\n",
       "      <td>5978370</td>\n",
       "    </tr>\n",
       "    <tr>\n",
       "      <th>1</th>\n",
       "      <td>1202527</td>\n",
       "      <td>1202527</td>\n",
       "      <td>1202527</td>\n",
       "      <td>1202527</td>\n",
       "      <td>1202527</td>\n",
       "      <td>1202527</td>\n",
       "      <td>1202527</td>\n",
       "      <td>1202527</td>\n",
       "      <td>1202527</td>\n",
       "      <td>1202527</td>\n",
       "      <td>1202527</td>\n",
       "      <td>1202527</td>\n",
       "      <td>1202527</td>\n",
       "      <td>1202527</td>\n",
       "    </tr>\n",
       "  </tbody>\n",
       "</table>\n",
       "</div>"
      ],
      "text/plain": [
       "           tipo_de_trabajo  nombre_area  nivel_laboral  cantidadDeVistas  \\\n",
       "sepostulo                                                                  \n",
       "0                  5978370      5978370        5978370           5978370   \n",
       "1                  1202527      1202527        1202527           1202527   \n",
       "\n",
       "           vistasPorAvisoTotales  vistasPorPostulanteTotales     sexo  \\\n",
       "sepostulo                                                               \n",
       "0                        5978370                     5978370  5978370   \n",
       "1                        1202527                     1202527  1202527   \n",
       "\n",
       "              edad   nombre  idpostulanteE  idavisoE  cantidadDeVistas15  \\\n",
       "sepostulo                                                                  \n",
       "0          5978370  5978370        5978370   5978370             5978370   \n",
       "1          1202527  1202527        1202527   1202527             1202527   \n",
       "\n",
       "           vistasPorAviso15  vistasPorPostulante15  \n",
       "sepostulo                                           \n",
       "0                   5978370                5978370  \n",
       "1                   1202527                1202527  "
      ]
     },
     "execution_count": 73,
     "metadata": {},
     "output_type": "execute_result"
    }
   ],
   "source": []
  },
  {
   "cell_type": "code",
   "execution_count": null,
   "metadata": {},
   "outputs": [],
   "source": []
  },
  {
   "cell_type": "code",
   "execution_count": 88,
   "metadata": {},
   "outputs": [],
   "source": [
    "clf = RandomForestClassifier(n_estimators = 500, n_jobs = -1)"
   ]
  },
  {
   "cell_type": "code",
   "execution_count": 78,
   "metadata": {},
   "outputs": [
    {
     "data": {
      "text/plain": [
       "<BarContainer object of 14 artists>"
      ]
     },
     "execution_count": 78,
     "metadata": {},
     "output_type": "execute_result"
    },
    {
     "data": {
      "image/png": "[encoded data removed]",
      "text/plain": [
       "<Figure size 1440x720 with 1 Axes>"
      ]
     },
     "metadata": {},
     "output_type": "display_data"
    }
   ],
   "source": [
    "features = list(set(train.columns) - set(['sepostulo']))\n",
    "clf.fit(train[features],train['sepostulo'])\n",
    "plt.figure(figsize=(20,10))\n",
    "plt.bar(train[features].columns.values,clf.feature_importances_)"
   ]
  },
  {
   "cell_type": "code",
   "execution_count": 79,
   "metadata": {},
   "outputs": [],
   "source": [
    "predic = clf.predict(test.iloc[:,1:])"
   ]
  },
  {
   "cell_type": "code",
   "execution_count": 80,
   "metadata": {},
   "outputs": [
    {
     "data": {
      "text/plain": [
       "0.43825"
      ]
     },
     "execution_count": 80,
     "metadata": {},
     "output_type": "execute_result"
    }
   ],
   "source": [
    "predic.mean()"
   ]
  },
  {
   "cell_type": "code",
   "execution_count": 81,
   "metadata": {},
   "outputs": [],
   "source": [
    "submit = pd.DataFrame()\n",
    "submit['id'] = test['id']\n",
    "submit['sepostulo'] = predic\n",
    "#submit = submit.drop_duplicates('id')"
   ]
  },
  {
   "cell_type": "code",
   "execution_count": 82,
   "metadata": {},
   "outputs": [],
   "source": [
    "submit['id'] = submit['id'].apply(int)"
   ]
  },
  {
   "cell_type": "code",
   "execution_count": 86,
   "metadata": {},
   "outputs": [],
   "source": [
    "submit.to_csv('/home/pcsor/facu/TP2/submit1.csv',index=False)"
   ]
  }
 ],
 "metadata": {
  "kernelspec": {
   "display_name": "Python 3",
   "language": "python",
   "name": "python3"
  },
  "language_info": {
   "codemirror_mode": {
    "name": "ipython",
    "version": 3
   },
   "file_extension": ".py",
   "mimetype": "text/x-python",
   "name": "python",
   "nbconvert_exporter": "python",
   "pygments_lexer": "ipython3",
   "version": "3.6.4"
  }
 },
 "nbformat": 4,
 "nbformat_minor": 2
}

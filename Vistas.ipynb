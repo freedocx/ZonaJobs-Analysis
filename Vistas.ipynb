{
 "cells": [
  {
   "cell_type": "code",
   "execution_count": 1,
   "metadata": {},
   "outputs": [],
   "source": [
    "import pandas as pd\n",
    "import numpy as np\n",
    "from datetime import datetime , date"
   ]
  },
  {
   "cell_type": "code",
   "execution_count": 2,
   "metadata": {},
   "outputs": [],
   "source": [
    "vistas2 = pd.read_csv('/home/pcsor/facu/datos_navent_fiuba/fiuba_3_vistas.csv',low_memory=False)\n",
    "vistas1 = pd.read_csv('/home/pcsor/facu/TP2/entrega6/fiuba_3_vistas.csv',low_memory=False)\n",
    "vistas3 = pd.read_csv('/home/pcsor/facu/TP2/fiuba_3_vistas.csv',low_memory=False)"
   ]
  },
  {
   "cell_type": "code",
   "execution_count": 3,
   "metadata": {},
   "outputs": [
    {
     "data": {
      "text/plain": [
       "((5758686, 3), (961897, 3), (11648230, 3))"
      ]
     },
     "execution_count": 3,
     "metadata": {},
     "output_type": "execute_result"
    }
   ],
   "source": [
    "vistas1.shape,vistas2.shape,vistas3.shape"
   ]
  },
  {
   "cell_type": "code",
   "execution_count": 4,
   "metadata": {},
   "outputs": [],
   "source": [
    "vistas = pd.merge(vistas1,vistas2,how='outer',on=['idpostulante','idAviso'])"
   ]
  },
  {
   "cell_type": "code",
   "execution_count": 5,
   "metadata": {},
   "outputs": [
    {
     "data": {
      "text/html": [
       "<div>\n",
       "<style scoped>\n",
       "    .dataframe tbody tr th:only-of-type {\n",
       "        vertical-align: middle;\n",
       "    }\n",
       "\n",
       "    .dataframe tbody tr th {\n",
       "        vertical-align: top;\n",
       "    }\n",
       "\n",
       "    .dataframe thead th {\n",
       "        text-align: right;\n",
       "    }\n",
       "</style>\n",
       "<table border=\"1\" class=\"dataframe\">\n",
       "  <thead>\n",
       "    <tr style=\"text-align: right;\">\n",
       "      <th></th>\n",
       "      <th>idAviso</th>\n",
       "      <th>timestamp_x</th>\n",
       "      <th>idpostulante</th>\n",
       "      <th>timestamp_y</th>\n",
       "    </tr>\n",
       "  </thead>\n",
       "  <tbody>\n",
       "    <tr>\n",
       "      <th>0</th>\n",
       "      <td>1112400775</td>\n",
       "      <td>2018-04-06T01:43:47.445-0400</td>\n",
       "      <td>kPjr2K0</td>\n",
       "      <td>NaN</td>\n",
       "    </tr>\n",
       "    <tr>\n",
       "      <th>1</th>\n",
       "      <td>1112400775</td>\n",
       "      <td>2018-04-06T01:43:48.330-0400</td>\n",
       "      <td>kPjr2K0</td>\n",
       "      <td>NaN</td>\n",
       "    </tr>\n",
       "    <tr>\n",
       "      <th>2</th>\n",
       "      <td>1112400775</td>\n",
       "      <td>2018-04-06T01:39:36.249-0400</td>\n",
       "      <td>kPjr2K0</td>\n",
       "      <td>NaN</td>\n",
       "    </tr>\n",
       "    <tr>\n",
       "      <th>3</th>\n",
       "      <td>1112426664</td>\n",
       "      <td>2018-04-06T01:43:50.042-0400</td>\n",
       "      <td>GNOwZmb</td>\n",
       "      <td>NaN</td>\n",
       "    </tr>\n",
       "  </tbody>\n",
       "</table>\n",
       "</div>"
      ],
      "text/plain": [
       "      idAviso                   timestamp_x idpostulante timestamp_y\n",
       "0  1112400775  2018-04-06T01:43:47.445-0400      kPjr2K0         NaN\n",
       "1  1112400775  2018-04-06T01:43:48.330-0400      kPjr2K0         NaN\n",
       "2  1112400775  2018-04-06T01:39:36.249-0400      kPjr2K0         NaN\n",
       "3  1112426664  2018-04-06T01:43:50.042-0400      GNOwZmb         NaN"
      ]
     },
     "execution_count": 5,
     "metadata": {},
     "output_type": "execute_result"
    }
   ],
   "source": [
    "vistas[0:4]"
   ]
  },
  {
   "cell_type": "code",
   "execution_count": 6,
   "metadata": {},
   "outputs": [
    {
     "data": {
      "text/plain": [
       "(947585, 5737671)"
      ]
     },
     "execution_count": 6,
     "metadata": {},
     "output_type": "execute_result"
    }
   ],
   "source": [
    "vistas['timestamp_x'].isnull().sum(),vistas['timestamp_y'].isnull().sum()"
   ]
  },
  {
   "cell_type": "code",
   "execution_count": 7,
   "metadata": {},
   "outputs": [
    {
     "name": "stderr",
     "output_type": "stream",
     "text": [
      "/home/pcsor/anaconda3/lib/python3.6/site-packages/pandas/core/indexing.py:194: SettingWithCopyWarning: \n",
      "A value is trying to be set on a copy of a slice from a DataFrame\n",
      "\n",
      "See the caveats in the documentation: http://pandas.pydata.org/pandas-docs/stable/indexing.html#indexing-view-versus-copy\n",
      "  self._setitem_with_indexer(indexer, value)\n"
     ]
    }
   ],
   "source": [
    "vistas['timestamp_x'].isnull().sum(),vistas['timestamp_y'].isnull().sum()\n",
    "vistas['timestamp_x'].loc[vistas['timestamp_x'].isnull()] = vistas['timestamp_y'].loc[vistas['timestamp_y'].notnull()]\n",
    "vistas = vistas.drop('timestamp_y',axis=1)\n",
    "vistas.columns = ['idAviso','timestamp','idpostulante']\n",
    "vistas = vistas.drop_duplicates(['idpostulante','idAviso','timestamp'])"
   ]
  },
  {
   "cell_type": "code",
   "execution_count": 8,
   "metadata": {},
   "outputs": [],
   "source": [
    "vistast = pd.merge(vistas,vistas3,how='outer',on=['idpostulante','idAviso'])"
   ]
  },
  {
   "cell_type": "code",
   "execution_count": 9,
   "metadata": {},
   "outputs": [
    {
     "name": "stderr",
     "output_type": "stream",
     "text": [
      "/home/pcsor/anaconda3/lib/python3.6/site-packages/pandas/core/indexing.py:194: SettingWithCopyWarning: \n",
      "A value is trying to be set on a copy of a slice from a DataFrame\n",
      "\n",
      "See the caveats in the documentation: http://pandas.pydata.org/pandas-docs/stable/indexing.html#indexing-view-versus-copy\n",
      "  self._setitem_with_indexer(indexer, value)\n"
     ]
    }
   ],
   "source": [
    "vistast['timestamp_x'].isnull().sum(),vistast['timestamp_y'].isnull().sum()\n",
    "vistast['timestamp_x'].loc[vistast['timestamp_x'].isnull()] = vistast['timestamp_y'].loc[vistast['timestamp_y'].notnull()]\n",
    "vistast = vistast.drop('timestamp_y',axis=1)\n",
    "vistast.columns = ['idAviso','timestamp','idpostulante']\n",
    "vistast = vistast.drop_duplicates(['idpostulante','idAviso','timestamp'])"
   ]
  },
  {
   "cell_type": "raw",
   "metadata": {},
   "source": []
  },
  {
   "cell_type": "markdown",
   "metadata": {},
   "source": [
    "### Cantidad de vistas de un postulante a un aviso."
   ]
  },
  {
   "cell_type": "markdown",
   "metadata": {},
   "source": [
    "* Cantidad de vistas totales"
   ]
  },
  {
   "cell_type": "code",
   "execution_count": 10,
   "metadata": {},
   "outputs": [],
   "source": [
    "cantidad = vistast.groupby(['idAviso','idpostulante']).agg(['count']).reset_index()\n",
    "cantidad.columns = ['idaviso','idpostulante','cantidadDeVistas']\n",
    "cantidad.to_csv('/home/pcsor/facu/TP2/cantidadVistas.csv',index=False)"
   ]
  },
  {
   "cell_type": "markdown",
   "metadata": {},
   "source": [
    "* Cantidad de vistas en los ultimos 15 dias"
   ]
  },
  {
   "cell_type": "code",
   "execution_count": 11,
   "metadata": {},
   "outputs": [],
   "source": [
    "vistas15 = vistas.loc[vistas['timestamp'] > '2018-04-01T00:00:00.330-0400']\n",
    "cantidad15 = vistas15.groupby(['idAviso','idpostulante']).agg(['count']).reset_index()\n",
    "cantidad15.columns = ['idaviso','idpostulante','cantidadDeVistas15']\n",
    "cantidad15.to_csv('/home/pcsor/facu/TP2/cantidadVistas15.csv',index=False)"
   ]
  },
  {
   "cell_type": "markdown",
   "metadata": {},
   "source": [
    "* Cantidad de vistas realizadas por un postulante a un aviso, periodo del testset.\n",
    " Miro un determinado postulante a un determinado aviso? \n",
    " Cuantas veces?"
   ]
  },
  {
   "cell_type": "code",
   "execution_count": 13,
   "metadata": {},
   "outputs": [],
   "source": [
    "cantidadTest = vistas3.groupby(['idAviso','idpostulante']).agg(['count']).reset_index()\n",
    "cantidadTest.columns = ['idaviso','idpostulante','cantidadDeVistas15']\n",
    "cantidadTest.to_csv('/home/pcsor/facu/TP2/cantidadVistasTest.csv',index=False)"
   ]
  },
  {
   "cell_type": "markdown",
   "metadata": {},
   "source": [
    "### Cantidad de vistas realizadas por un postulante"
   ]
  },
  {
   "cell_type": "markdown",
   "metadata": {},
   "source": [
    "* Cantidad de vistas totales de un postulante"
   ]
  },
  {
   "cell_type": "code",
   "execution_count": 22,
   "metadata": {},
   "outputs": [],
   "source": [
    "cantidadP = vistast.groupby(['idpostulante']).agg(['count']).reset_index()\n",
    "cantidadP.columns = ['idpostulante','idAviso','vistasPorPostulanteTotales']\n",
    "cantidadP = cantidadP.drop('idAviso',axis=1)\n",
    "cantidadP.to_csv('/home/pcsor/facu/TP2/cantidadVistasTotalesPorPostulante.csv',index=False)"
   ]
  },
  {
   "cell_type": "markdown",
   "metadata": {},
   "source": [
    "* Cantidad de vistas realizadas por un postulante entre 2018-04-01 y el 2018-04-15"
   ]
  },
  {
   "cell_type": "code",
   "execution_count": 15,
   "metadata": {},
   "outputs": [],
   "source": [
    "vistas15 = vistas.loc[vistas['timestamp'] > '2018-04-01T00:00:00.330-0400']"
   ]
  },
  {
   "cell_type": "code",
   "execution_count": 16,
   "metadata": {},
   "outputs": [],
   "source": [
    "cantidadP15 = vistas15.groupby(['idpostulante']).agg(['count']).reset_index()\n",
    "cantidadP15.columns = ['idpostulante','idAviso','vistasPorPostulante15']\n",
    "cantidadP15 = cantidadP15.drop('idAviso',axis=1)\n",
    "cantidadP15.to_csv('/home/pcsor/facu/TP2/cantidadVistasPorPostulante15.csv',index=False)"
   ]
  },
  {
   "cell_type": "markdown",
   "metadata": {},
   "source": [
    "* Cantidad de vistas realizadas por un postulante, periodo del testset.\n",
    " O sea, son las vistas de los ultimos 15 dias correspondientes al periodo de la prediccion"
   ]
  },
  {
   "cell_type": "code",
   "execution_count": 17,
   "metadata": {},
   "outputs": [],
   "source": [
    "cantidadTest = vistas3.groupby(['idpostulante']).agg(['count']).reset_index()\n",
    "cantidadTest.columns = ['idpostulante','idAviso','vistasPorPostulante15']\n",
    "cantidadTest = cantidadTest.drop('idAviso',axis=1)\n",
    "cantidadTest.to_csv('/home/pcsor/facu/TP2/cantidadVistasPorPostulanteTest.csv',index=False)"
   ]
  },
  {
   "cell_type": "markdown",
   "metadata": {},
   "source": [
    "### Cantidad de vistas realizadas a un aviso"
   ]
  },
  {
   "cell_type": "markdown",
   "metadata": {},
   "source": [
    "* Cantidad de vistas totales de un aviso"
   ]
  },
  {
   "cell_type": "code",
   "execution_count": 24,
   "metadata": {},
   "outputs": [],
   "source": [
    "cantidadA = vistast.groupby(['idAviso']).agg(['count']).reset_index()\n",
    "cantidadA.columns = ['idaviso','idpostulante','vistasPorAvisoTotales']\n",
    "cantidadA = cantidadA.drop('idpostulante',axis=1)\n",
    "cantidadA.to_csv('/home/pcsor/facu/TP2/cantidadVistasTotalesPorAviso.csv',index=False)"
   ]
  },
  {
   "cell_type": "markdown",
   "metadata": {},
   "source": [
    "* Cantidad de vistas realizadas a un aviso entre 2018-04-01 y el 2018-04-15"
   ]
  },
  {
   "cell_type": "code",
   "execution_count": 25,
   "metadata": {},
   "outputs": [],
   "source": [
    "vistas15 = vistas.loc[vistas['timestamp'] > '2018-04-01T00:00:00.330-0400']"
   ]
  },
  {
   "cell_type": "code",
   "execution_count": 33,
   "metadata": {},
   "outputs": [],
   "source": [
    "cantidadA15 = vistas15.groupby(['idAviso']).agg(['count']).reset_index()\n",
    "cantidadA15.columns = ['idaviso','idpostulante','vistasPorAviso15']\n",
    "cantidadA15 = cantidadA15.drop('idpostulante',axis=1)\n",
    "cantidadA15.to_csv('/home/pcsor/facu/TP2/cantidadVistasPorAviso15.csv',index=False)"
   ]
  },
  {
   "cell_type": "markdown",
   "metadata": {},
   "source": [
    "* Cantidad de vistas realizadas a un aviso, periodo del testset.\n",
    " O sea, son las vistas de los ultimos 15 dias correspondientes al periodo de la prediccion"
   ]
  },
  {
   "cell_type": "code",
   "execution_count": 36,
   "metadata": {},
   "outputs": [],
   "source": [
    "cantidadATest = vistas3.groupby(['idAviso']).agg(['count']).reset_index()\n",
    "cantidadATest.columns = ['idaviso','idpostulante','vistasPorAviso15']\n",
    "cantidadATest = cantidadATest.drop('idpostulante',axis=1)\n",
    "cantidadATest.to_csv('/home/pcsor/facu/TP2/cantidadVistasPorAvisoTest.csv',index=False)"
   ]
  }
 ],
 "metadata": {
  "kernelspec": {
   "display_name": "Python 3",
   "language": "python",
   "name": "python3"
  },
  "language_info": {
   "codemirror_mode": {
    "name": "ipython",
    "version": 3
   },
   "file_extension": ".py",
   "mimetype": "text/x-python",
   "name": "python",
   "nbconvert_exporter": "python",
   "pygments_lexer": "ipython3",
   "version": "3.6.4"
  }
 },
 "nbformat": 4,
 "nbformat_minor": 2
}

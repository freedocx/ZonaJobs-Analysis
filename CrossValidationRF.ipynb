{
 "cells": [
  {
   "cell_type": "code",
   "execution_count": 1,
   "metadata": {},
   "outputs": [],
   "source": [
    "import pandas as pd\n",
    "import numpy as np\n",
    "from sklearn.preprocessing import LabelEncoder\n",
    "from sklearn.utils import shuffle\n",
    "from sklearn.ensemble import RandomForestRegressor\n",
    "import matplotlib.pyplot as plt\n",
    "%matplotlib inline\n",
    "from sklearn.model_selection import cross_val_score"
   ]
  },
  {
   "cell_type": "markdown",
   "metadata": {},
   "source": [
    "### Cargo los archivos\n",
    "\n",
    "* Previamente los genere con las notebook subidas\n",
    "* Los avisos tienen 250 columnas con las matrices 'UxE' de la salida de aplicar SVD,\n",
    "    pero por ahora no las uso.\n",
    "* Las vistas contienen la cantidad de vistas"
   ]
  },
  {
   "cell_type": "code",
   "execution_count": 2,
   "metadata": {},
   "outputs": [],
   "source": [
    "vist = pd.read_csv('/home/pcsor/facu/TP2/vistas.csv',low_memory=False)\n",
    "post = pd.read_csv('/home/pcsor/facu/TP2/postulaciones.csv',low_memory=False)\n",
    "postulantes = pd.read_csv('/home/pcsor/facu/TP2/postulantes.csv',low_memory=False)\n",
    "avisos = pd.read_csv('/home/pcsor/facu/TP2/avisos5.csv',low_memory=False)"
   ]
  },
  {
   "cell_type": "code",
   "execution_count": 3,
   "metadata": {},
   "outputs": [
    {
     "data": {
      "text/plain": [
       "((6603752, 3), (25288, 254))"
      ]
     },
     "execution_count": 3,
     "metadata": {},
     "output_type": "execute_result"
    }
   ],
   "source": [
    "post.shape, avisos.shape"
   ]
  },
  {
   "cell_type": "code",
   "execution_count": 4,
   "metadata": {},
   "outputs": [
    {
     "data": {
      "text/plain": [
       "(Index(['idaviso', 'tipo_de_trabajo', 'nombre_area', '0', '1', '2', '3', '4',\n",
       "        '5', '6',\n",
       "        ...\n",
       "        '241', '242', '243', '244', '245', '246', '247', '248', '249',\n",
       "        'nivel_laboral'],\n",
       "       dtype='object', length=254),\n",
       " Index(['idaviso', 'idpostulante', 'fechapostulacion'], dtype='object'),\n",
       " Index(['idAviso', 'idpostulante', 'cantidadDeVistas'], dtype='object'))"
      ]
     },
     "execution_count": 4,
     "metadata": {},
     "output_type": "execute_result"
    }
   ],
   "source": [
    "avisos.columns ,post.columns,vist.columns"
   ]
  },
  {
   "cell_type": "code",
   "execution_count": 5,
   "metadata": {},
   "outputs": [],
   "source": [
    "###### Drop a las columnas que no se utilizan\n",
    "features = list(set(avisos.columns) - set(['idaviso', 'nivel_laboral','tipo_de_trabajo','nombre_area']))\n",
    "avisos = avisos.drop(features,axis=1)"
   ]
  },
  {
   "cell_type": "code",
   "execution_count": 8,
   "metadata": {},
   "outputs": [],
   "source": [
    "vist.columns = ['idaviso','idpostulante','miro']\n",
    "post['sepostulo'] = 1"
   ]
  },
  {
   "cell_type": "code",
   "execution_count": 9,
   "metadata": {},
   "outputs": [],
   "source": [
    "##### Se arma un Trainset con dummys\n",
    "train = pd.DataFrame()\n",
    "train['idaviso'] = shuffle(post['idaviso'][0:3000000]).reset_index()['idaviso']\n",
    "train['idpostulante'] = shuffle(post['idpostulante'][0:3000000]).reset_index()['idpostulante']\n",
    "train['sepostulo'] = 0"
   ]
  },
  {
   "cell_type": "code",
   "execution_count": 10,
   "metadata": {},
   "outputs": [],
   "source": [
    "##### Se controla que los dummys con '0' NO sean postlaciones reales\n",
    "train = pd.merge(train, post, how='left', on=['idpostulante', 'idaviso'], indicator=True)\n",
    "train = train.query('_merge != \"both\"')\n",
    "train = train.drop(['_merge','sepostulo_y','fechapostulacion'],axis=1)\n",
    "train.columns = ['idaviso','idpostulante','sepostulo']"
   ]
  },
  {
   "cell_type": "code",
   "execution_count": 11,
   "metadata": {},
   "outputs": [],
   "source": [
    "train = train.drop_duplicates(['idaviso','idpostulante'])"
   ]
  },
  {
   "cell_type": "code",
   "execution_count": 12,
   "metadata": {},
   "outputs": [
    {
     "data": {
      "text/plain": [
       "(2888040, 3)"
      ]
     },
     "execution_count": 12,
     "metadata": {},
     "output_type": "execute_result"
    }
   ],
   "source": [
    "train.shape"
   ]
  },
  {
   "cell_type": "code",
   "execution_count": 13,
   "metadata": {},
   "outputs": [],
   "source": [
    "###### Se filtran las postulaciones antiguas\n",
    "post = post.sort_values(by='fechapostulacion',ascending=False)\n",
    "post = post.reset_index().drop('index',axis=1)\n",
    "abril = '2018-04-12 00:00:00'\n",
    "post = post.loc[post['fechapostulacion']>abril]\n",
    "post = post.drop(['fechapostulacion'], axis=1)\n",
    "post[0:3]"
   ]
  },
  {
   "cell_type": "code",
   "execution_count": 21,
   "metadata": {},
   "outputs": [],
   "source": [
    "####### Se juntan los dummys con las postulaciones filtradas\n",
    "train = pd.concat([train,post])\n",
    "train = shuffle(train)\n",
    "train = train.reset_index().drop('index',axis=1)\n",
    "train = train.drop_duplicates(['idaviso','idpostulante'])"
   ]
  },
  {
   "cell_type": "code",
   "execution_count": 25,
   "metadata": {},
   "outputs": [],
   "source": [
    "####### Se agregan los features de los avisos\n",
    "train = pd.merge(train,avisos,how='left',on='idaviso',indicator=True)\n",
    "train = train.query('_merge != \"left_only\"')\n",
    "train = train.drop(['_merge'],axis=1)\n",
    "train[0:3]"
   ]
  },
  {
   "cell_type": "code",
   "execution_count": 41,
   "metadata": {},
   "outputs": [],
   "source": [
    "####### Agrego la cantidad de vistas y relleno con '0' las que no son vistas\n",
    "train = pd.merge(train,vist,how='left',on=['idpostulante','idaviso'])\n",
    "train['miro_x'] = train['miro_x'].fillna(0)\n",
    "train = train.drop(['miro_y'],axis=1)\n",
    "train.columns = ['idaviso','idpostulante','sepostulo','tipo_de_trabajo','nombre_area','nivel_laboral','miro']"
   ]
  },
  {
   "cell_type": "code",
   "execution_count": 43,
   "metadata": {},
   "outputs": [],
   "source": [
    "####### Agrego los datos de los postulantes y se rellenan los NaNs con el promedio\n",
    "train = pd.merge(train,postulantes,how='left',on=['idpostulante'])\n",
    "train['edad'] = train['edad'].fillna(int(train['edad'].mean()))\n",
    "train['nombre'] = train['nombre'].fillna(int(train['nombre'].mean()))\n",
    "train = train.drop('estado',axis = 1)"
   ]
  },
  {
   "cell_type": "code",
   "execution_count": 49,
   "metadata": {},
   "outputs": [],
   "source": [
    "####### Se realiza un encoding de los IDS\n",
    "lb_make = LabelEncoder()\n",
    "train['idpostulante'] = lb_make.fit_transform(train['idpostulante'] )\n",
    "train['idaviso'] = lb_make.fit_transform(train['idaviso'] )"
   ]
  },
  {
   "cell_type": "code",
   "execution_count": null,
   "metadata": {},
   "outputs": [],
   "source": []
  },
  {
   "cell_type": "markdown",
   "metadata": {},
   "source": [
    "### Cross validation con RF en modo regressor\n",
    "\n",
    "* Se hacen 5 pruebas.\n",
    "* Se usan 40 arboles para cada prueba."
   ]
  },
  {
   "cell_type": "code",
   "execution_count": 51,
   "metadata": {},
   "outputs": [],
   "source": [
    "features = list(set(train.columns) - set(['sepostulo']))\n",
    "clf = RandomForestRegressor(n_estimators = 40, n_jobs = -1)\n",
    "scores = cross_val_score(clf, train[features], train['sepostulo'], cv=5)"
   ]
  },
  {
   "cell_type": "code",
   "execution_count": 52,
   "metadata": {},
   "outputs": [
    {
     "data": {
      "text/plain": [
       "array([0.9671955 , 0.9663511 , 0.96618453, 0.96828009, 0.96581121])"
      ]
     },
     "execution_count": 52,
     "metadata": {},
     "output_type": "execute_result"
    }
   ],
   "source": [
    "scores"
   ]
  },
  {
   "cell_type": "code",
   "execution_count": null,
   "metadata": {},
   "outputs": [],
   "source": []
  }
 ],
 "metadata": {
  "kernelspec": {
   "display_name": "Python 3",
   "language": "python",
   "name": "python3"
  },
  "language_info": {
   "codemirror_mode": {
    "name": "ipython",
    "version": 3
   },
   "file_extension": ".py",
   "mimetype": "text/x-python",
   "name": "python",
   "nbconvert_exporter": "python",
   "pygments_lexer": "ipython3",
   "version": "3.6.4"
  }
 },
 "nbformat": 4,
 "nbformat_minor": 2
}

{
 "cells": [
  {
   "cell_type": "code",
   "execution_count": 1,
   "metadata": {},
   "outputs": [],
   "source": [
    "import pandas as pd\n",
    "import numpy as np\n",
    "from datetime import datetime , date"
   ]
  },
  {
   "cell_type": "code",
   "execution_count": 2,
   "metadata": {},
   "outputs": [],
   "source": [
    "postulaciones2 = pd.read_csv('/home/pcsor/facu/datos_navent_fiuba/fiuba_4_postulaciones.csv',low_memory=False)\n",
    "postulaciones1 = pd.read_csv('/home/pcsor/facu/TP2/entrega6/fiuba_4_postulaciones.csv',low_memory=False)"
   ]
  },
  {
   "cell_type": "code",
   "execution_count": 3,
   "metadata": {},
   "outputs": [
    {
     "data": {
      "text/plain": [
       "((3401623, 3), (4909641, 3))"
      ]
     },
     "execution_count": 3,
     "metadata": {},
     "output_type": "execute_result"
    }
   ],
   "source": [
    "postulaciones2.shape,postulaciones1.shape"
   ]
  },
  {
   "cell_type": "code",
   "execution_count": 4,
   "metadata": {},
   "outputs": [],
   "source": [
    "postulaciones = pd.merge(postulaciones2,postulaciones1,how='outer',on=['idpostulante','idaviso'])\n",
    "postulaciones = postulaciones.drop_duplicates(['idpostulante','idaviso'])"
   ]
  },
  {
   "cell_type": "code",
   "execution_count": 5,
   "metadata": {},
   "outputs": [],
   "source": [
    "postulaciones['fechapostulacion_x'].loc[postulaciones['fechapostulacion_x'].isnull()] = postulaciones['fechapostulacion_y'].loc[postulaciones['fechapostulacion_y'].notnull()]\n",
    "postulaciones = postulaciones.drop('fechapostulacion_y',axis=1)\n",
    "postulaciones.columns = ['idaviso','idpostulante','fechapostulacion']"
   ]
  },
  {
   "cell_type": "code",
   "execution_count": 6,
   "metadata": {},
   "outputs": [
    {
     "data": {
      "text/html": [
       "<div>\n",
       "<style scoped>\n",
       "    .dataframe tbody tr th:only-of-type {\n",
       "        vertical-align: middle;\n",
       "    }\n",
       "\n",
       "    .dataframe tbody tr th {\n",
       "        vertical-align: top;\n",
       "    }\n",
       "\n",
       "    .dataframe thead th {\n",
       "        text-align: right;\n",
       "    }\n",
       "</style>\n",
       "<table border=\"1\" class=\"dataframe\">\n",
       "  <thead>\n",
       "    <tr style=\"text-align: right;\">\n",
       "      <th></th>\n",
       "      <th>idaviso</th>\n",
       "      <th>idpostulante</th>\n",
       "      <th>fechapostulacion</th>\n",
       "    </tr>\n",
       "  </thead>\n",
       "  <tbody>\n",
       "    <tr>\n",
       "      <th>0</th>\n",
       "      <td>1112257047</td>\n",
       "      <td>NM5M</td>\n",
       "      <td>2018-01-15 16:22:34</td>\n",
       "    </tr>\n",
       "    <tr>\n",
       "      <th>1</th>\n",
       "      <td>1111920714</td>\n",
       "      <td>NM5M</td>\n",
       "      <td>2018-02-06 09:04:50</td>\n",
       "    </tr>\n",
       "    <tr>\n",
       "      <th>2</th>\n",
       "      <td>1112346945</td>\n",
       "      <td>NM5M</td>\n",
       "      <td>2018-02-22 09:04:47</td>\n",
       "    </tr>\n",
       "  </tbody>\n",
       "</table>\n",
       "</div>"
      ],
      "text/plain": [
       "      idaviso idpostulante     fechapostulacion\n",
       "0  1112257047         NM5M  2018-01-15 16:22:34\n",
       "1  1111920714         NM5M  2018-02-06 09:04:50\n",
       "2  1112346945         NM5M  2018-02-22 09:04:47"
      ]
     },
     "execution_count": 6,
     "metadata": {},
     "output_type": "execute_result"
    }
   ],
   "source": [
    "postulaciones[0:3]"
   ]
  },
  {
   "cell_type": "markdown",
   "metadata": {},
   "source": [
    "### Cantidad de postulaciones por Postulante"
   ]
  },
  {
   "cell_type": "markdown",
   "metadata": {},
   "source": [
    "* en los ultimos 10 dias"
   ]
  },
  {
   "cell_type": "code",
   "execution_count": 7,
   "metadata": {},
   "outputs": [],
   "source": [
    "post = postulaciones.loc[postulaciones['fechapostulacion'] > '2018-04-10 00:00:00']\n",
    "post = post.groupby('idpostulante').agg(['count']).reset_index()[['idpostulante','idaviso']]\n",
    "post.columns = ['idpostulante','cantidadPostulaciones10']\n",
    "post.to_csv('/home/pcsor/facu/TP2/cantidadPostulaciones10.csv',index=False)"
   ]
  },
  {
   "cell_type": "markdown",
   "metadata": {},
   "source": [
    "* en los ultimos 4 dias"
   ]
  },
  {
   "cell_type": "code",
   "execution_count": 8,
   "metadata": {},
   "outputs": [],
   "source": [
    "post = postulaciones.loc[postulaciones['fechapostulacion'] > '2018-04-14 00:00:00']\n",
    "post = post.groupby('idpostulante').agg(['count']).reset_index()[['idpostulante','idaviso']]\n",
    "post.columns = ['idpostulante','cantidadPostulaciones4']\n",
    "post.to_csv('/home/pcsor/facu/TP2/cantidadPostulaciones4.csv',index=False)"
   ]
  },
  {
   "cell_type": "markdown",
   "metadata": {},
   "source": [
    "* cantidad de postulaciones totales"
   ]
  },
  {
   "cell_type": "code",
   "execution_count": 9,
   "metadata": {},
   "outputs": [],
   "source": [
    "cantidadPostulaciones = postulaciones.groupby('idpostulante').agg(['count']).reset_index()[['idpostulante','idaviso']]\n",
    "cantidadPostulaciones.columns = ['idpostulante','cantidadPostulaciones']\n",
    "cantidadPostulaciones.to_csv('/home/pcsor/facu/TP2/cantidadPostulaciones.csv',index=False)"
   ]
  },
  {
   "cell_type": "markdown",
   "metadata": {},
   "source": [
    "### Cantidad de postulaciones por Aviso"
   ]
  },
  {
   "cell_type": "markdown",
   "metadata": {},
   "source": [
    "* en los ultimos 10 dias"
   ]
  },
  {
   "cell_type": "code",
   "execution_count": 10,
   "metadata": {},
   "outputs": [],
   "source": [
    "post = postulaciones.loc[postulaciones['fechapostulacion'] > '2018-04-10 00:00:00']\n",
    "post = post.groupby('idaviso').agg(['count']).reset_index()[['idaviso','idpostulante']]\n",
    "post.columns = ['idaviso','cantidadPostulacionesAviso10']\n",
    "post.to_csv('/home/pcsor/facu/TP2/cantidadPostulacionesAviso10.csv',index=False)"
   ]
  },
  {
   "cell_type": "markdown",
   "metadata": {},
   "source": [
    "* en los ultimos 4 dias"
   ]
  },
  {
   "cell_type": "code",
   "execution_count": 11,
   "metadata": {},
   "outputs": [],
   "source": [
    "post = postulaciones.loc[postulaciones['fechapostulacion'] > '2018-04-14 00:00:00']\n",
    "post = post.groupby('idaviso').agg(['count']).reset_index()[['idaviso','idpostulante']]\n",
    "post.columns = ['idaviso','cantidadPostulacionesAviso4']\n",
    "post.to_csv('/home/pcsor/facu/TP2/cantidadPostulacionesAviso4.csv',index=False)"
   ]
  },
  {
   "cell_type": "code",
   "execution_count": 15,
   "metadata": {},
   "outputs": [],
   "source": [
    "#### guardo archivo de postulaciones completo\n",
    "postulaciones.to_csv('/home/pcsor/facu/TP2/postulaciones.csv',index=False)"
   ]
  }
 ],
 "metadata": {
  "kernelspec": {
   "display_name": "Python 3",
   "language": "python",
   "name": "python3"
  },
  "language_info": {
   "codemirror_mode": {
    "name": "ipython",
    "version": 3
   },
   "file_extension": ".py",
   "mimetype": "text/x-python",
   "name": "python",
   "nbconvert_exporter": "python",
   "pygments_lexer": "ipython3",
   "version": "3.6.4"
  }
 },
 "nbformat": 4,
 "nbformat_minor": 2
}

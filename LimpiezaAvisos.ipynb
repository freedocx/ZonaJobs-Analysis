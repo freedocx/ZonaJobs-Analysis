{
 "cells": [
  {
   "cell_type": "code",
   "execution_count": 1,
   "metadata": {},
   "outputs": [],
   "source": [
    "import pandas as pd\n",
    "import numpy as np\n",
    "%matplotlib inline\n",
    "from sklearn.preprocessing import LabelBinarizer \n",
    "from sklearn.preprocessing import LabelEncoder\n",
    "from sklearn.ensemble import RandomForestClassifier\n",
    "import matplotlib.pyplot as plt\n",
    "import nltk\n",
    "import re\n",
    "import unidecode\n",
    "from sklearn.feature_extraction.text import TfidfVectorizer\n",
    "from sklearn.decomposition import TruncatedSVD"
   ]
  },
  {
   "cell_type": "code",
   "execution_count": 2,
   "metadata": {},
   "outputs": [],
   "source": [
    "basepath = '/home/pcsor/facu/TP2/julian'\n",
    "av_detalle = pd.read_csv(basepath + '/entrega6/fiuba_6_avisos_detalle.csv',low_memory=False)\n",
    "av_navent = pd.read_csv(basepath + '/datos_navent_fiuba/fiuba_6_avisos_detalle.csv',low_memory=False)\n",
    "av_test = pd.read_csv(basepath + '/test/fiuba_6_avisos_detalle.csv',low_memory=False)\n",
    "av_missing = pd.read_csv(basepath + '/fiuba_6_avisos_detalle_missing_nivel_laboral.csv',low_memory=False)\n",
    "\n",
    "#### Se cargan los 4 archivos para hacer el encoding"
   ]
  },
  {
   "cell_type": "code",
   "execution_count": null,
   "metadata": {},
   "outputs": [],
   "source": []
  },
  {
   "cell_type": "code",
   "execution_count": 3,
   "metadata": {},
   "outputs": [],
   "source": [
    "stopw = 'un,de,https,una,unas,unos,uno,sobre,todo,por,tambien,tras,otro,algun,alguno,alguna,algunos,algunas,ser,es,soy,eres,somos,sos,estoy,esta,estamos,estas,estan,como,en\\\n",
    ",para,atras,porque,por que,estado,estaba,ante,antes,siendo,ambos,pero,por,poder,puede,puedo,podemos,podes,pueden,fui,fue,fuimos,fueron,hacer,hago,hace,hacemos,haceis,hacen\\\n",
    ",cada,fin,incluso,primero,desde,ir,voy,va,vamos,vais,van,vaya,bueno,ha,tener,tengo,tiene,tenemos,teneis,tienen,el,la,lo,las,los,su,aqui,mio,tuyo,ellos,ellas,nos,nosotros\\\n",
    ",vosotros,vosotras,si,dentro,solo,solamente,ultimo,largo,haces,usted,ustedes,muchos,aquellos,aquellas,sus,entonces,cierto,ciertos,cierta,ciertas,intentar,intento,intenta,intentas\\\n",
    ",intentais,intentan,dos,bajo,arriba,encima,usar,uso,usas,usa,usamos,usais,usan,emplear,empleo,empleas,emplean,ampleamos,empleais,valor,muy,eras,eramos,eran,modo,bien,cual\\\n",
    ",cuando,donde,mientras,quien,con,entre,sin,podria,podrias,podriamos,podrian,podriais,yo,aquel,intentamos,ev,busqueda,ingresar,queres,haciendo,importante,encuentra\\\n",
    ",encontramos,debe,argentina,nuestro,ubicada,inscribirse,se,in,est,anos,NaN'\n",
    "stopw = stopw.split(',')\n",
    "\n",
    "#### Se sacan las stopwords"
   ]
  },
  {
   "cell_type": "code",
   "execution_count": 4,
   "metadata": {},
   "outputs": [],
   "source": [
    "av_detalle = pd.concat([av_detalle,av_navent,av_test,av_missing])\n",
    "\n",
    "#### se juntan los cuatro archivos de avisos"
   ]
  },
  {
   "cell_type": "code",
   "execution_count": 5,
   "metadata": {},
   "outputs": [],
   "source": [
    "av_detalle = av_detalle.drop_duplicates('idaviso')"
   ]
  },
  {
   "cell_type": "code",
   "execution_count": 6,
   "metadata": {},
   "outputs": [
    {
     "data": {
      "text/plain": [
       "(25288, 11)"
      ]
     },
     "execution_count": 6,
     "metadata": {},
     "output_type": "execute_result"
    }
   ],
   "source": [
    "av_detalle.shape"
   ]
  },
  {
   "cell_type": "markdown",
   "metadata": {},
   "source": [
    "#### Se limpian las descripciones y los titulos de los avisos, \n",
    "#### luego se le aplica TFIDF y se reduce la cantidad de dimensiones con SVD"
   ]
  },
  {
   "cell_type": "code",
   "execution_count": null,
   "metadata": {},
   "outputs": [],
   "source": []
  },
  {
   "cell_type": "code",
   "execution_count": 7,
   "metadata": {},
   "outputs": [],
   "source": [
    "descrip = av_detalle[['idaviso','descripcion','titulo']]"
   ]
  },
  {
   "cell_type": "code",
   "execution_count": 8,
   "metadata": {},
   "outputs": [
    {
     "name": "stderr",
     "output_type": "stream",
     "text": [
      "/home/pcsor/anaconda3/lib/python3.6/site-packages/pandas/core/indexing.py:537: SettingWithCopyWarning: \n",
      "A value is trying to be set on a copy of a slice from a DataFrame.\n",
      "Try using .loc[row_indexer,col_indexer] = value instead\n",
      "\n",
      "See the caveats in the documentation: http://pandas.pydata.org/pandas-docs/stable/indexing.html#indexing-view-versus-copy\n",
      "  self.obj[item] = s\n"
     ]
    }
   ],
   "source": [
    "descrip.loc[:,'descripcion'] = descrip['descripcion'].apply(lambda s: re.sub('<.*?>', '', s)) #####saco todo lo que sea codigo HTML\n",
    "descrip.loc[:,'descripcion'] = descrip['descripcion'].apply(lambda s: re.sub(r'[^\\w]', ' ', s)) ##### saco todo lo que no sea alfanumerico\n",
    "descrip.loc[:,'descripcion'] = descrip['descripcion'].apply(lambda s: s.lower()) ###### lo paso a minuscula\n",
    "descrip.loc[:,'descripcion'] = descrip['descripcion'].apply(lambda s: unidecode.unidecode(s)) ####### saco los acentos\n",
    "descrip.loc[:,'descripcion'] = descrip['descripcion'].apply(lambda s: re.sub(r'\\b\\w{1,3}\\b', '', s)) ###### remuevo las palabras cortas\n",
    "descrip.loc[:,'descripcion'] = descrip['descripcion'].apply(lambda s: re.sub(' +',' ',s)) ###### remuevo los espacios en blanco de mas\n",
    "descrip.loc[:,'titulo'] = descrip['titulo'].apply(lambda s: s.lstrip()) ###### remuevo los espacios en blanco de mas\n",
    "descrip.loc[:,'titulo'] = descrip['titulo'].apply(lambda s: re.sub('<.*?>', '', s)) #####saco todo lo que sea codigo HTML\n",
    "descrip.loc[:,'titulo'] = descrip['titulo'].apply(lambda s: re.sub(r'[^\\w]', ' ', s)) ##### saco todo lo que no sea alfanumerico\n",
    "descrip.loc[:,'titulo'] = descrip['titulo'].apply(lambda s: s.lower()) ###### lo paso a minuscula\n",
    "descrip.loc[:,'titulo'] = descrip['titulo'].apply(lambda s: unidecode.unidecode(s)) ####### saco los acentos\n",
    "descrip.loc[:,'titulo'] = descrip['titulo'].apply(lambda s: re.sub(r'\\b\\w{1,3}\\b', '', s)) ###### remuevo las palabras cortas\n",
    "descrip.loc[:,'titulo'] = descrip['titulo'].apply(lambda s: re.sub(' +',' ',s)) ###### remuevo los espacios en blanco de mas\n",
    "descrip.loc[:,'titulo'] = descrip['titulo'].apply(lambda s: s.lstrip()) ###### remuevo los espacios en blanco de mas"
   ]
  },
  {
   "cell_type": "code",
   "execution_count": 9,
   "metadata": {},
   "outputs": [
    {
     "data": {
      "text/plain": [
       "((25288, 5543), (25288, 54483))"
      ]
     },
     "execution_count": 9,
     "metadata": {},
     "output_type": "execute_result"
    }
   ],
   "source": [
    "tfidf = TfidfVectorizer(stop_words = stopw)\n",
    "sparseM = tfidf.fit_transform(descrip['descripcion'])\n",
    "sparseMT = tfidf.fit_transform(descrip['titulo'])\n",
    "sparseMT.shape, sparseM.shape\n",
    "\n",
    "#### se aplica TFIDF y se generan matrices dispersas que es el formato de entrada para la SVD"
   ]
  },
  {
   "cell_type": "code",
   "execution_count": 10,
   "metadata": {},
   "outputs": [],
   "source": [
    "conceptColumns = TruncatedSVD(n_components=100).fit_transform(sparseM) #### se utilizan 100 conceptos para las descripciones\n",
    "conceptTitle = TruncatedSVD(n_components=30).fit_transform(sparseMT) #### se utilizan 50 conceptos para los titulos"
   ]
  },
  {
   "cell_type": "code",
   "execution_count": 11,
   "metadata": {},
   "outputs": [],
   "source": [
    "conceptos = pd.DataFrame(conceptColumns)\n",
    "titulos = pd.DataFrame(conceptTitle)\n",
    "#textos = pd.concat([conceptos,titulos],axis=1,ignore_index=True)\n",
    "textos=titulos.add_prefix('lsi')"
   ]
  },
  {
   "cell_type": "code",
   "execution_count": 12,
   "metadata": {},
   "outputs": [],
   "source": [
    "av_detalle.reset_index(drop=True, inplace=True)"
   ]
  },
  {
   "cell_type": "code",
   "execution_count": 13,
   "metadata": {},
   "outputs": [
    {
     "data": {
      "text/plain": [
       "(25288, 11)"
      ]
     },
     "execution_count": 13,
     "metadata": {},
     "output_type": "execute_result"
    }
   ],
   "source": [
    "av_detalle.shape"
   ]
  },
  {
   "cell_type": "code",
   "execution_count": 14,
   "metadata": {},
   "outputs": [
    {
     "data": {
      "text/plain": [
       "(25288, 41)"
      ]
     },
     "execution_count": 14,
     "metadata": {},
     "output_type": "execute_result"
    }
   ],
   "source": [
    "av_detalle = pd.concat([av_detalle,textos],axis = 1)\n",
    "av_detalle.shape"
   ]
  },
  {
   "cell_type": "code",
   "execution_count": 15,
   "metadata": {},
   "outputs": [
    {
     "data": {
      "text/html": [
       "<div>\n",
       "<style scoped>\n",
       "    .dataframe tbody tr th:only-of-type {\n",
       "        vertical-align: middle;\n",
       "    }\n",
       "\n",
       "    .dataframe tbody tr th {\n",
       "        vertical-align: top;\n",
       "    }\n",
       "\n",
       "    .dataframe thead th {\n",
       "        text-align: right;\n",
       "    }\n",
       "</style>\n",
       "<table border=\"1\" class=\"dataframe\">\n",
       "  <thead>\n",
       "    <tr style=\"text-align: right;\">\n",
       "      <th></th>\n",
       "      <th>idaviso</th>\n",
       "      <th>idpais</th>\n",
       "      <th>titulo</th>\n",
       "      <th>descripcion</th>\n",
       "      <th>nombre_zona</th>\n",
       "      <th>ciudad</th>\n",
       "      <th>mapacalle</th>\n",
       "      <th>tipo_de_trabajo</th>\n",
       "      <th>nivel_laboral</th>\n",
       "      <th>nombre_area</th>\n",
       "      <th>...</th>\n",
       "      <th>lsi20</th>\n",
       "      <th>lsi21</th>\n",
       "      <th>lsi22</th>\n",
       "      <th>lsi23</th>\n",
       "      <th>lsi24</th>\n",
       "      <th>lsi25</th>\n",
       "      <th>lsi26</th>\n",
       "      <th>lsi27</th>\n",
       "      <th>lsi28</th>\n",
       "      <th>lsi29</th>\n",
       "    </tr>\n",
       "  </thead>\n",
       "  <tbody>\n",
       "    <tr>\n",
       "      <th>0</th>\n",
       "      <td>1111556097</td>\n",
       "      <td>1</td>\n",
       "      <td>Responsable de Marketing-Producto Div. Constru...</td>\n",
       "      <td>&lt;p&gt;Buscamos un &lt;strong&gt;Responsable de Producto...</td>\n",
       "      <td>Gran Buenos Aires</td>\n",
       "      <td>NaN</td>\n",
       "      <td>NaN</td>\n",
       "      <td>Full-time</td>\n",
       "      <td>Senior / Semi-Senior</td>\n",
       "      <td>Desarrollo de Negocios</td>\n",
       "      <td>...</td>\n",
       "      <td>-0.008919</td>\n",
       "      <td>-0.058554</td>\n",
       "      <td>-0.131212</td>\n",
       "      <td>-0.055740</td>\n",
       "      <td>0.007099</td>\n",
       "      <td>0.027628</td>\n",
       "      <td>-0.044565</td>\n",
       "      <td>-0.072072</td>\n",
       "      <td>0.079433</td>\n",
       "      <td>0.101686</td>\n",
       "    </tr>\n",
       "    <tr>\n",
       "      <th>1</th>\n",
       "      <td>1111949392</td>\n",
       "      <td>1</td>\n",
       "      <td>Asesor de Servicios - Postventa Chevrolet</td>\n",
       "      <td>&lt;p&gt;&lt;span style=\"\"&gt;Para nuestro cliente, conces...</td>\n",
       "      <td>Gran Buenos Aires</td>\n",
       "      <td>NaN</td>\n",
       "      <td>NaN</td>\n",
       "      <td>Full-time</td>\n",
       "      <td>Senior / Semi-Senior</td>\n",
       "      <td>Ingeniería  Eléctrica y Electrónica</td>\n",
       "      <td>...</td>\n",
       "      <td>0.007907</td>\n",
       "      <td>-0.005394</td>\n",
       "      <td>-0.009168</td>\n",
       "      <td>0.003888</td>\n",
       "      <td>-0.038094</td>\n",
       "      <td>0.006068</td>\n",
       "      <td>0.055611</td>\n",
       "      <td>-0.032843</td>\n",
       "      <td>0.009237</td>\n",
       "      <td>0.020985</td>\n",
       "    </tr>\n",
       "    <tr>\n",
       "      <th>2</th>\n",
       "      <td>1112145935</td>\n",
       "      <td>1</td>\n",
       "      <td>Analistas de Impuestos Sr Ssr y Jr</td>\n",
       "      <td>&lt;p&gt;Importante Estudio de Auditoria y Consultor...</td>\n",
       "      <td>Gran Buenos Aires</td>\n",
       "      <td>NaN</td>\n",
       "      <td>NaN</td>\n",
       "      <td>Full-time</td>\n",
       "      <td>Senior / Semi-Senior</td>\n",
       "      <td>Impuestos</td>\n",
       "      <td>...</td>\n",
       "      <td>0.043371</td>\n",
       "      <td>0.010463</td>\n",
       "      <td>-0.088058</td>\n",
       "      <td>0.002131</td>\n",
       "      <td>0.035937</td>\n",
       "      <td>0.021144</td>\n",
       "      <td>0.031510</td>\n",
       "      <td>-0.032977</td>\n",
       "      <td>-0.033628</td>\n",
       "      <td>-0.112597</td>\n",
       "    </tr>\n",
       "  </tbody>\n",
       "</table>\n",
       "<p>3 rows × 41 columns</p>\n",
       "</div>"
      ],
      "text/plain": [
       "      idaviso  idpais                                             titulo  \\\n",
       "0  1111556097       1  Responsable de Marketing-Producto Div. Constru...   \n",
       "1  1111949392       1          Asesor de Servicios - Postventa Chevrolet   \n",
       "2  1112145935       1                 Analistas de Impuestos Sr Ssr y Jr   \n",
       "\n",
       "                                         descripcion        nombre_zona  \\\n",
       "0  <p>Buscamos un <strong>Responsable de Producto...  Gran Buenos Aires   \n",
       "1  <p><span style=\"\">Para nuestro cliente, conces...  Gran Buenos Aires   \n",
       "2  <p>Importante Estudio de Auditoria y Consultor...  Gran Buenos Aires   \n",
       "\n",
       "  ciudad mapacalle tipo_de_trabajo         nivel_laboral  \\\n",
       "0    NaN       NaN       Full-time  Senior / Semi-Senior   \n",
       "1    NaN       NaN       Full-time  Senior / Semi-Senior   \n",
       "2    NaN       NaN       Full-time  Senior / Semi-Senior   \n",
       "\n",
       "                           nombre_area    ...        lsi20     lsi21  \\\n",
       "0               Desarrollo de Negocios    ...    -0.008919 -0.058554   \n",
       "1  Ingeniería  Eléctrica y Electrónica    ...     0.007907 -0.005394   \n",
       "2                            Impuestos    ...     0.043371  0.010463   \n",
       "\n",
       "      lsi22     lsi23     lsi24     lsi25     lsi26     lsi27     lsi28  \\\n",
       "0 -0.131212 -0.055740  0.007099  0.027628 -0.044565 -0.072072  0.079433   \n",
       "1 -0.009168  0.003888 -0.038094  0.006068  0.055611 -0.032843  0.009237   \n",
       "2 -0.088058  0.002131  0.035937  0.021144  0.031510 -0.032977 -0.033628   \n",
       "\n",
       "      lsi29  \n",
       "0  0.101686  \n",
       "1  0.020985  \n",
       "2 -0.112597  \n",
       "\n",
       "[3 rows x 41 columns]"
      ]
     },
     "execution_count": 15,
     "metadata": {},
     "output_type": "execute_result"
    }
   ],
   "source": [
    "av_detalle[0:3]"
   ]
  },
  {
   "cell_type": "raw",
   "metadata": {},
   "source": []
  },
  {
   "cell_type": "markdown",
   "metadata": {},
   "source": [
    "#### Se procede a encodear los features para trabajar con ML"
   ]
  },
  {
   "cell_type": "raw",
   "metadata": {},
   "source": []
  },
  {
   "cell_type": "code",
   "execution_count": 16,
   "metadata": {},
   "outputs": [],
   "source": [
    "lb_enc = LabelEncoder()\n",
    "oh_enc = LabelBinarizer(neg_label=0, pos_label=1, sparse_output=False)"
   ]
  },
  {
   "cell_type": "code",
   "execution_count": 17,
   "metadata": {},
   "outputs": [],
   "source": [
    "av_detalle = av_detalle.drop(['titulo','descripcion','idpais','ciudad','mapacalle','denominacion_empresa'],axis = 1)"
   ]
  },
  {
   "cell_type": "markdown",
   "metadata": {},
   "source": [
    "* Area de trabajo"
   ]
  },
  {
   "cell_type": "code",
   "execution_count": 18,
   "metadata": {},
   "outputs": [
    {
     "name": "stderr",
     "output_type": "stream",
     "text": [
      "/home/pcsor/anaconda3/lib/python3.6/site-packages/pandas/core/indexing.py:194: SettingWithCopyWarning: \n",
      "A value is trying to be set on a copy of a slice from a DataFrame\n",
      "\n",
      "See the caveats in the documentation: http://pandas.pydata.org/pandas-docs/stable/indexing.html#indexing-view-versus-copy\n",
      "  self._setitem_with_indexer(indexer, value)\n"
     ]
    }
   ],
   "source": [
    "lista = av_detalle['nombre_area'].value_counts().sort_values(ascending = False)[0:30].keys().values\n",
    "av_detalle['nombre_area'].loc[-(av_detalle['nombre_area'].isin(lista))]='Otro'\n",
    "av_detalle['nombre_area'] = lb_enc.fit_transform(av_detalle['nombre_area'])\n",
    "toconcat = oh_enc.fit_transform(av_detalle['nombre_area'])\n",
    "toconcat = pd.DataFrame(toconcat)\n",
    "av_detalle = pd.concat([av_detalle,toconcat.add_prefix('nombre_area')],axis=1)"
   ]
  },
  {
   "cell_type": "markdown",
   "metadata": {},
   "source": [
    "* Tipo de trabajo"
   ]
  },
  {
   "cell_type": "code",
   "execution_count": 19,
   "metadata": {},
   "outputs": [],
   "source": [
    "av_detalle['tipo_de_trabajo'] = lb_enc.fit_transform(av_detalle['tipo_de_trabajo'])\n",
    "toconcat = oh_enc.fit_transform(av_detalle['tipo_de_trabajo'])\n",
    "toconcat = pd.DataFrame(toconcat)\n",
    "av_detalle = pd.concat([av_detalle,toconcat.add_prefix('tipo_de_trabajo')],axis=1)"
   ]
  },
  {
   "cell_type": "markdown",
   "metadata": {},
   "source": [
    "* Nombre zona"
   ]
  },
  {
   "cell_type": "code",
   "execution_count": 20,
   "metadata": {},
   "outputs": [
    {
     "name": "stderr",
     "output_type": "stream",
     "text": [
      "/home/pcsor/anaconda3/lib/python3.6/site-packages/pandas/core/indexing.py:194: SettingWithCopyWarning: \n",
      "A value is trying to be set on a copy of a slice from a DataFrame\n",
      "\n",
      "See the caveats in the documentation: http://pandas.pydata.org/pandas-docs/stable/indexing.html#indexing-view-versus-copy\n",
      "  self._setitem_with_indexer(indexer, value)\n"
     ]
    }
   ],
   "source": [
    "av_detalle['nombre_zona'].loc[av_detalle['nombre_zona'] == 'GBA Oeste'] = 'Gran Buenos Aires'\n",
    "av_detalle['nombre_zona'].loc[av_detalle['nombre_zona'] == 'La Plata'] = 'Gran Buenos Aires'\n",
    "av_detalle['nombre_zona'].loc[ (av_detalle['nombre_zona'] != 'Gran Buenos Aires') & (av_detalle['nombre_zona'] != 'Capital Federal') ] = 'Interior'"
   ]
  },
  {
   "cell_type": "code",
   "execution_count": 21,
   "metadata": {},
   "outputs": [],
   "source": [
    "av_detalle['nombre_zona'] = lb_enc.fit_transform(av_detalle['nombre_zona'])\n",
    "toconcat = oh_enc.fit_transform(av_detalle['nombre_zona'])\n",
    "toconcat = pd.DataFrame(toconcat)\n",
    "av_detalle = pd.concat([av_detalle,toconcat.add_prefix('nombre_zona')],axis=1)\n",
    "#### Para las zonas que no son Capital ni GBA se unifican en 'Interior'."
   ]
  },
  {
   "cell_type": "code",
   "execution_count": 22,
   "metadata": {},
   "outputs": [],
   "source": [
    "av_detalle = av_detalle.drop(['nombre_zona','tipo_de_trabajo','nombre_area'],axis=1)"
   ]
  },
  {
   "cell_type": "markdown",
   "metadata": {},
   "source": [
    "#### Para el nivel laboral hay NaNs que se van a completar con Random Forest"
   ]
  },
  {
   "cell_type": "raw",
   "metadata": {},
   "source": []
  },
  {
   "cell_type": "code",
   "execution_count": 23,
   "metadata": {},
   "outputs": [
    {
     "data": {
      "text/plain": [
       "Senior / Semi-Senior                    16980\n",
       "Junior                                   4149\n",
       "Otro                                     1975\n",
       "Jefe / Supervisor / Responsable          1527\n",
       "Gerencia / Alta Gerencia / Dirección      322\n",
       "Name: nivel_laboral, dtype: int64"
      ]
     },
     "execution_count": 23,
     "metadata": {},
     "output_type": "execute_result"
    }
   ],
   "source": [
    "av_detalle['nivel_laboral'].value_counts()"
   ]
  },
  {
   "cell_type": "code",
   "execution_count": 24,
   "metadata": {},
   "outputs": [],
   "source": [
    "av_train = av_detalle[ av_detalle['nivel_laboral'].notnull()]"
   ]
  },
  {
   "cell_type": "code",
   "execution_count": 25,
   "metadata": {},
   "outputs": [
    {
     "data": {
      "text/plain": [
       "((24953, 76), (25288, 76))"
      ]
     },
     "execution_count": 25,
     "metadata": {},
     "output_type": "execute_result"
    }
   ],
   "source": [
    "av_train.shape,av_detalle.shape"
   ]
  },
  {
   "cell_type": "code",
   "execution_count": 26,
   "metadata": {},
   "outputs": [],
   "source": [
    "av_train_y = lb_enc.fit_transform(av_train['nivel_laboral'])"
   ]
  },
  {
   "cell_type": "code",
   "execution_count": 27,
   "metadata": {},
   "outputs": [],
   "source": [
    "av_train.columns = av_train.columns.astype(str)"
   ]
  },
  {
   "cell_type": "code",
   "execution_count": 28,
   "metadata": {},
   "outputs": [],
   "source": [
    "av_train = av_train.drop(['nivel_laboral'],axis = 1)"
   ]
  },
  {
   "cell_type": "code",
   "execution_count": 29,
   "metadata": {},
   "outputs": [],
   "source": [
    "av_test = av_detalle[av_detalle['nivel_laboral'].isnull()]"
   ]
  },
  {
   "cell_type": "code",
   "execution_count": 30,
   "metadata": {},
   "outputs": [
    {
     "data": {
      "text/plain": [
       "(335, 76)"
      ]
     },
     "execution_count": 30,
     "metadata": {},
     "output_type": "execute_result"
    }
   ],
   "source": [
    "av_test.shape"
   ]
  },
  {
   "cell_type": "code",
   "execution_count": 31,
   "metadata": {},
   "outputs": [],
   "source": [
    "av_test = av_test.drop(['nivel_laboral'],axis=1)"
   ]
  },
  {
   "cell_type": "markdown",
   "metadata": {},
   "source": [
    "##### Se separan las rows con NaNs para hacer un DF 'test'\n",
    "##### y se utilizan las rows con nivel_laboral conocido para precedir."
   ]
  },
  {
   "cell_type": "code",
   "execution_count": 32,
   "metadata": {},
   "outputs": [],
   "source": [
    "clf = RandomForestClassifier(n_estimators = 50, n_jobs = -1)"
   ]
  },
  {
   "cell_type": "code",
   "execution_count": 33,
   "metadata": {},
   "outputs": [
    {
     "data": {
      "text/plain": [
       "4    16980\n",
       "2     4149\n",
       "3     1975\n",
       "1     1527\n",
       "0      322\n",
       "dtype: int64"
      ]
     },
     "execution_count": 33,
     "metadata": {},
     "output_type": "execute_result"
    }
   ],
   "source": [
    "pd.Series(av_train_y).value_counts()"
   ]
  },
  {
   "cell_type": "code",
   "execution_count": 34,
   "metadata": {},
   "outputs": [
    {
     "data": {
      "text/plain": [
       "3.353103835210195"
      ]
     },
     "execution_count": 34,
     "metadata": {},
     "output_type": "execute_result"
    }
   ],
   "source": [
    "pd.Series(av_train_y).mean()\n",
    "#### se puede ver que el promedio es de 3.35"
   ]
  },
  {
   "cell_type": "code",
   "execution_count": 35,
   "metadata": {},
   "outputs": [
    {
     "data": {
      "text/html": [
       "<div>\n",
       "<style scoped>\n",
       "    .dataframe tbody tr th:only-of-type {\n",
       "        vertical-align: middle;\n",
       "    }\n",
       "\n",
       "    .dataframe tbody tr th {\n",
       "        vertical-align: top;\n",
       "    }\n",
       "\n",
       "    .dataframe thead th {\n",
       "        text-align: right;\n",
       "    }\n",
       "</style>\n",
       "<table border=\"1\" class=\"dataframe\">\n",
       "  <thead>\n",
       "    <tr style=\"text-align: right;\">\n",
       "      <th></th>\n",
       "      <th>idaviso</th>\n",
       "      <th>lsi0</th>\n",
       "      <th>lsi1</th>\n",
       "      <th>lsi2</th>\n",
       "      <th>lsi3</th>\n",
       "      <th>lsi4</th>\n",
       "      <th>lsi5</th>\n",
       "      <th>lsi6</th>\n",
       "      <th>lsi7</th>\n",
       "      <th>lsi8</th>\n",
       "      <th>...</th>\n",
       "      <th>tipo_de_trabajo3</th>\n",
       "      <th>tipo_de_trabajo4</th>\n",
       "      <th>tipo_de_trabajo5</th>\n",
       "      <th>tipo_de_trabajo6</th>\n",
       "      <th>tipo_de_trabajo7</th>\n",
       "      <th>tipo_de_trabajo8</th>\n",
       "      <th>tipo_de_trabajo9</th>\n",
       "      <th>nombre_zona0</th>\n",
       "      <th>nombre_zona1</th>\n",
       "      <th>nombre_zona2</th>\n",
       "    </tr>\n",
       "  </thead>\n",
       "  <tbody>\n",
       "    <tr>\n",
       "      <th>0</th>\n",
       "      <td>1111556097</td>\n",
       "      <td>0.04062</td>\n",
       "      <td>-0.003149</td>\n",
       "      <td>0.041221</td>\n",
       "      <td>0.02969</td>\n",
       "      <td>-0.006336</td>\n",
       "      <td>-0.012014</td>\n",
       "      <td>-0.010472</td>\n",
       "      <td>-0.03835</td>\n",
       "      <td>0.067184</td>\n",
       "      <td>...</td>\n",
       "      <td>0</td>\n",
       "      <td>0</td>\n",
       "      <td>0</td>\n",
       "      <td>0</td>\n",
       "      <td>0</td>\n",
       "      <td>0</td>\n",
       "      <td>0</td>\n",
       "      <td>0</td>\n",
       "      <td>1</td>\n",
       "      <td>0</td>\n",
       "    </tr>\n",
       "  </tbody>\n",
       "</table>\n",
       "<p>1 rows × 75 columns</p>\n",
       "</div>"
      ],
      "text/plain": [
       "      idaviso     lsi0      lsi1      lsi2     lsi3      lsi4      lsi5  \\\n",
       "0  1111556097  0.04062 -0.003149  0.041221  0.02969 -0.006336 -0.012014   \n",
       "\n",
       "       lsi6     lsi7      lsi8      ...       tipo_de_trabajo3  \\\n",
       "0 -0.010472 -0.03835  0.067184      ...                      0   \n",
       "\n",
       "   tipo_de_trabajo4  tipo_de_trabajo5  tipo_de_trabajo6  tipo_de_trabajo7  \\\n",
       "0                 0                 0                 0                 0   \n",
       "\n",
       "   tipo_de_trabajo8  tipo_de_trabajo9  nombre_zona0  nombre_zona1  \\\n",
       "0                 0                 0             0             1   \n",
       "\n",
       "   nombre_zona2  \n",
       "0             0  \n",
       "\n",
       "[1 rows x 75 columns]"
      ]
     },
     "execution_count": 35,
     "metadata": {},
     "output_type": "execute_result"
    }
   ],
   "source": [
    "av_train[0:1]\n",
    "#### se utilizan todos los features menos el ID"
   ]
  },
  {
   "cell_type": "code",
   "execution_count": 36,
   "metadata": {},
   "outputs": [
    {
     "data": {
      "text/plain": [
       "RandomForestClassifier(bootstrap=True, class_weight=None, criterion='gini',\n",
       "            max_depth=None, max_features='auto', max_leaf_nodes=None,\n",
       "            min_impurity_decrease=0.0, min_impurity_split=None,\n",
       "            min_samples_leaf=1, min_samples_split=2,\n",
       "            min_weight_fraction_leaf=0.0, n_estimators=50, n_jobs=-1,\n",
       "            oob_score=False, random_state=None, verbose=0,\n",
       "            warm_start=False)"
      ]
     },
     "execution_count": 36,
     "metadata": {},
     "output_type": "execute_result"
    }
   ],
   "source": [
    "clf.fit(av_train.iloc[:,1:], av_train_y)"
   ]
  },
  {
   "cell_type": "code",
   "execution_count": 37,
   "metadata": {},
   "outputs": [
    {
     "data": {
      "text/plain": [
       "<Container object of 74 artists>"
      ]
     },
     "execution_count": 37,
     "metadata": {},
     "output_type": "execute_result"
    },
    {
     "data": {
      "image/png": "[encoded data removed]",
      "text/plain": [
       "<matplotlib.figure.Figure at 0x7f4503940080>"
      ]
     },
     "metadata": {},
     "output_type": "display_data"
    }
   ],
   "source": [
    "plt.figure(figsize=(20,10))\n",
    "plt.bar(av_train.iloc[:,1:].columns.values,clf.feature_importances_)"
   ]
  },
  {
   "cell_type": "code",
   "execution_count": 38,
   "metadata": {},
   "outputs": [],
   "source": [
    "predic = clf.predict(av_test.iloc[:,1:])"
   ]
  },
  {
   "cell_type": "code",
   "execution_count": 39,
   "metadata": {},
   "outputs": [
    {
     "data": {
      "text/plain": [
       "3.582089552238806"
      ]
     },
     "execution_count": 39,
     "metadata": {},
     "output_type": "execute_result"
    }
   ],
   "source": [
    "predic.mean()\n",
    "#### se puede ver que el promedio de la prediccion es similar al promedio marcado en el train.\n",
    "#### Hay una clara predominancia de 4\n",
    "#### Tambien se puede apreciar que los primeros vectores (los mas importantes) \n",
    "#### de la SVD tienen importancia para la prediccion\n",
    "#### (se puede ver en los picos, es donde justamente empiezan las descripciones y los titulos)."
   ]
  },
  {
   "cell_type": "code",
   "execution_count": 40,
   "metadata": {},
   "outputs": [],
   "source": [
    "predic = pd.DataFrame(list(map(int, predic)))"
   ]
  },
  {
   "cell_type": "code",
   "execution_count": 41,
   "metadata": {},
   "outputs": [
    {
     "data": {
      "text/plain": [
       "0    0\n",
       "dtype: int64"
      ]
     },
     "execution_count": 41,
     "metadata": {},
     "output_type": "execute_result"
    }
   ],
   "source": [
    "predic.isnull().sum()"
   ]
  },
  {
   "cell_type": "code",
   "execution_count": 42,
   "metadata": {},
   "outputs": [],
   "source": [
    "av_test = av_test.reset_index().drop(['index'],axis=1)"
   ]
  },
  {
   "cell_type": "code",
   "execution_count": 43,
   "metadata": {},
   "outputs": [],
   "source": [
    "av_test['nivel_laboral'] = predic"
   ]
  },
  {
   "cell_type": "code",
   "execution_count": 44,
   "metadata": {},
   "outputs": [],
   "source": [
    "av_train['nivel_laboral'] = av_train_y"
   ]
  },
  {
   "cell_type": "code",
   "execution_count": 45,
   "metadata": {},
   "outputs": [],
   "source": [
    "av_completo = pd.concat([av_test,av_train])"
   ]
  },
  {
   "cell_type": "code",
   "execution_count": 46,
   "metadata": {},
   "outputs": [
    {
     "data": {
      "text/plain": [
       "0        3\n",
       "1        4\n",
       "2        4\n",
       "3        3\n",
       "4        4\n",
       "5        4\n",
       "6        4\n",
       "7        4\n",
       "8        4\n",
       "9        4\n",
       "10       2\n",
       "11       4\n",
       "12       4\n",
       "13       4\n",
       "14       4\n",
       "15       4\n",
       "16       4\n",
       "17       3\n",
       "18       4\n",
       "19       4\n",
       "20       4\n",
       "21       4\n",
       "22       4\n",
       "23       4\n",
       "24       4\n",
       "25       4\n",
       "26       4\n",
       "27       4\n",
       "28       1\n",
       "29       1\n",
       "        ..\n",
       "24923    4\n",
       "24924    4\n",
       "24925    4\n",
       "24926    4\n",
       "24927    4\n",
       "24928    4\n",
       "24929    4\n",
       "24930    4\n",
       "24931    4\n",
       "24932    4\n",
       "24933    4\n",
       "24934    2\n",
       "24935    2\n",
       "24936    2\n",
       "24937    2\n",
       "24938    2\n",
       "24939    4\n",
       "24940    4\n",
       "24941    4\n",
       "24942    4\n",
       "24943    4\n",
       "24944    4\n",
       "24945    2\n",
       "24946    1\n",
       "24947    4\n",
       "24948    4\n",
       "24949    4\n",
       "24996    4\n",
       "25076    4\n",
       "25132    4\n",
       "Name: nivel_laboral, Length: 25288, dtype: int64"
      ]
     },
     "execution_count": 46,
     "metadata": {},
     "output_type": "execute_result"
    }
   ],
   "source": [
    "av_completo['nivel_laboral']"
   ]
  },
  {
   "cell_type": "code",
   "execution_count": 47,
   "metadata": {},
   "outputs": [],
   "source": [
    "toconcat = oh_enc.fit_transform(av_completo['nivel_laboral'])\n",
    "toconcat = pd.DataFrame(toconcat)\n",
    "av_detalle = pd.concat([av_detalle,toconcat.add_prefix('nivel_laboral')],axis=1)"
   ]
  },
  {
   "cell_type": "code",
   "execution_count": 48,
   "metadata": {},
   "outputs": [],
   "source": [
    "av_detalle.to_csv(basepath + '/avisos.csv',index=False)"
   ]
  },
  {
   "cell_type": "code",
   "execution_count": null,
   "metadata": {},
   "outputs": [],
   "source": []
  }
 ],
 "metadata": {
  "kernelspec": {
   "display_name": "Python 3",
   "language": "python",
   "name": "python3"
  },
  "language_info": {
   "codemirror_mode": {
    "name": "ipython",
    "version": 3
   },
   "file_extension": ".py",
   "mimetype": "text/x-python",
   "name": "python",
   "nbconvert_exporter": "python",
   "pygments_lexer": "ipython3",
   "version": "3.6.4"
  }
 },
 "nbformat": 4,
 "nbformat_minor": 2
}
